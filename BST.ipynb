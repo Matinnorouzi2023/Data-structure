{
  "cells": [
    {
      "cell_type": "code",
      "execution_count": 54,
      "metadata": {
        "id": "IFbYBFutRJTp"
      },
      "outputs": [],
      "source": [
        "class Node:\n",
        "    def __init__(self, key):\n",
        "        self.key = key\n",
        "        self.left = None\n",
        "        self.right = None "
      ]
    },
    {
      "cell_type": "code",
      "execution_count": 55,
      "metadata": {
        "id": "wz2savoYRORx"
      },
      "outputs": [],
      "source": [
        "def inorder(root):\n",
        "    if root is not None:\n",
        "        inorder(root.left)\n",
        "        print (root.key, end=\" \")\n",
        "        inorder(root.right) "
      ]
    },
    {
      "cell_type": "code",
      "execution_count": 56,
      "metadata": {
        "id": "hruWaWL5RRU5"
      },
      "outputs": [],
      "source": [
        "def insert(root, k):\n",
        "    if root is None:\n",
        "        return Node(k)\n",
        "    if k < root.key:\n",
        "        root.left = insert(root.left, k)\n",
        "    else:\n",
        "        root.right = insert(root.right, k)\n",
        "    return root "
      ]
    },
    {
      "cell_type": "code",
      "execution_count": 57,
      "metadata": {
        "id": "CTn_z8e5WRke"
      },
      "outputs": [],
      "source": [
        "def search(root, k):\n",
        "  if root is None or root.key == k :\n",
        "    return root\n",
        "  if k > root.key:\n",
        "    return search(root.right, k)\n",
        "  return search(root.left, k)"
      ]
    },
    {
      "cell_type": "code",
      "execution_count": 58,
      "metadata": {
        "id": "h_ARFNqkW-y6"
      },
      "outputs": [
        {
          "ename": "SyntaxError",
          "evalue": "incomplete input (350343463.py, line 1)",
          "output_type": "error",
          "traceback": [
            "\u001b[1;36m  Cell \u001b[1;32mIn[58], line 1\u001b[1;36m\u001b[0m\n\u001b[1;33m    def delete(root, k ):\u001b[0m\n\u001b[1;37m                         ^\u001b[0m\n\u001b[1;31mSyntaxError\u001b[0m\u001b[1;31m:\u001b[0m incomplete input\n"
          ]
        }
      ],
      "source": [
        "def delete(root, k ):"
      ]
    },
    {
      "cell_type": "code",
      "execution_count": null,
      "metadata": {
        "id": "gKQipU8PRhts"
      },
      "outputs": [],
      "source": [
        "\"\"\"     \n",
        "          4\n",
        "       /      \\ \n",
        "     2         6\n",
        "   /  \\      /   \\\n",
        "  1    3    5     7       \n",
        "\"\"\""
      ]
    },
    {
      "cell_type": "code",
      "execution_count": null,
      "metadata": {
        "id": "KK75pYhuVqhT"
      },
      "outputs": [],
      "source": [
        "r = None\n",
        "r = insert(r, 4)\n",
        "r = insert(r, 2)\n",
        "r = insert(r, 3)\n",
        "r = insert(r, 6)\n",
        "r = insert(r, 5)\n",
        "r = insert(r, 7)\n",
        "r = insert(r, 1)"
      ]
    },
    {
      "cell_type": "code",
      "execution_count": null,
      "metadata": {
        "colab": {
          "base_uri": "https://localhost:8080/"
        },
        "id": "fCPs9VfaV8V4",
        "outputId": "54fc293a-4aa9-475a-c826-047fede03cfb"
      },
      "outputs": [
        {
          "name": "stdout",
          "output_type": "stream",
          "text": [
            "1 2 3 4 5 6 7 "
          ]
        }
      ],
      "source": [
        "inorder(r)"
      ]
    },
    {
      "cell_type": "code",
      "execution_count": null,
      "metadata": {
        "colab": {
          "base_uri": "https://localhost:8080/"
        },
        "id": "oD-EL4HPWAn3",
        "outputId": "2ed70587-16c8-41c9-8bd1-a5e7537b7978"
      },
      "outputs": [
        {
          "name": "stdout",
          "output_type": "stream",
          "text": [
            "1 2 3 4 5 6 7 8 "
          ]
        }
      ],
      "source": [
        "r = insert(r, 8)\n",
        "inorder(r)"
      ]
    },
    {
      "cell_type": "code",
      "execution_count": null,
      "metadata": {
        "colab": {
          "base_uri": "https://localhost:8080/"
        },
        "id": "sUdaaM7kWkLO",
        "outputId": "baac7321-7585-4303-a431-f53f0accac47"
      },
      "outputs": [
        {
          "name": "stdout",
          "output_type": "stream",
          "text": [
            "7\n"
          ]
        }
      ],
      "source": [
        "a = search(r, 7)\n",
        "print(a.key)"
      ]
    },
    {
      "cell_type": "code",
      "execution_count": null,
      "metadata": {
        "colab": {
          "base_uri": "https://localhost:8080/"
        },
        "id": "7HyUwyn9Wud_",
        "outputId": "3bd03743-2899-4223-d1fe-9657ab86f904"
      },
      "outputs": [
        {
          "name": "stdout",
          "output_type": "stream",
          "text": [
            "None\n"
          ]
        }
      ],
      "source": [
        "a = search(r, 20)\n",
        "print(a)"
      ]
    }
  ],
  "metadata": {
    "colab": {
      "collapsed_sections": [],
      "name": "BST.ipynb",
      "provenance": []
    },
    "kernelspec": {
      "display_name": "Python 3",
      "name": "python3"
    },
    "language_info": {
      "codemirror_mode": {
        "name": "ipython",
        "version": 3
      },
      "file_extension": ".py",
      "mimetype": "text/x-python",
      "name": "python",
      "nbconvert_exporter": "python",
      "pygments_lexer": "ipython3",
      "version": "3.12.0"
    }
  },
  "nbformat": 4,
  "nbformat_minor": 0
}
