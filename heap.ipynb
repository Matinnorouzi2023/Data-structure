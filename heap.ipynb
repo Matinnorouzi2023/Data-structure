{
  "nbformat": 4,
  "nbformat_minor": 0,
  "metadata": {
    "colab": {
      "provenance": [],
      "include_colab_link": true
    },
    "kernelspec": {
      "name": "python3",
      "display_name": "Python 3"
    },
    "language_info": {
      "name": "python"
    }
  },
  "cells": [
    {
      "cell_type": "markdown",
      "metadata": {
        "id": "view-in-github",
        "colab_type": "text"
      },
      "source": [
        "<a href=\"https://colab.research.google.com/github/Matinnorouzi2023/Data-structure/blob/main/heap.ipynb\" target=\"_parent\"><img src=\"https://colab.research.google.com/assets/colab-badge.svg\" alt=\"Open In Colab\"/></a>"
      ]
    },
    {
      "cell_type": "code",
      "source": [
        "def min_heapify(A,k):\n",
        "    l = 2 * k + 1\n",
        "    r = 2 * k + 2\n",
        "    if l < len(A) and A[l] < A[k]:\n",
        "        s = l\n",
        "    else:\n",
        "        s = k\n",
        "    if r < len(A) and A[r] < A[s]:\n",
        "        s = r\n",
        "    if s != k:\n",
        "        A[k], A[s] = A[s], A[k]\n",
        "        min_heapify(A, s)"
      ],
      "metadata": {
        "id": "n8iezBYpugsn"
      },
      "execution_count": 1,
      "outputs": []
    },
    {
      "cell_type": "code",
      "source": [
        "def build_min_heap(A):\n",
        "    n = int((len(A)//2)-1)\n",
        "    for k in range(n, -1, -1):\n",
        "        min_heapify(A,k)\n",
        "\n",
        "A = [5,6,3,1,4,2,7]\n",
        "build_min_heap(A)\n",
        "print(A)"
      ],
      "metadata": {
        "colab": {
          "base_uri": "https://localhost:8080/"
        },
        "id": "21SD-5d6xlaA",
        "outputId": "c73802af-e3c0-4669-d9a8-88e003f6f3d5"
      },
      "execution_count": 2,
      "outputs": [
        {
          "output_type": "stream",
          "name": "stdout",
          "text": [
            "[1, 4, 2, 6, 5, 3, 7]\n"
          ]
        }
      ]
    },
    {
      "cell_type": "code",
      "source": [
        "def heapify(arr, n, i):\n",
        "    largest = i\n",
        "    l = 2 * i + 1\n",
        "    r = 2 * i + 2\n",
        "    if l < n and arr[i] < arr[l]:\n",
        "        largest = l\n",
        "    if r < n and arr[largest] < arr[r]:\n",
        "        largest = r\n",
        "    if largest != i:\n",
        "        arr[i],arr[largest] = arr[largest],arr[i]\n",
        "        heapify(arr, n, largest)"
      ],
      "metadata": {
        "id": "jJN7YPE1x9Zt"
      },
      "execution_count": 3,
      "outputs": []
    },
    {
      "cell_type": "code",
      "source": [
        "def heapSort(arr):\n",
        "    n = len(arr)\n",
        "    for i in range(n // 2 - 1, -1, -1):\n",
        "        heapify(arr, n, i)\n",
        "\n",
        "    for i in range(n-1, 0, -1):\n",
        "        arr[i], arr[0] = arr[0], arr[i]\n",
        "        heapify(arr, i, 0)"
      ],
      "metadata": {
        "id": "o2ydS_9Wx4ol"
      },
      "execution_count": 4,
      "outputs": []
    },
    {
      "cell_type": "code",
      "source": [
        "arr = [ 12, 11, 13, 5, 6, 7]\n",
        "heapSort(arr)\n",
        "n = len(arr)\n",
        "for i in range(n):\n",
        "    print (arr[i],end='  ')"
      ],
      "metadata": {
        "colab": {
          "base_uri": "https://localhost:8080/"
        },
        "id": "ptmnV6O0xxj8",
        "outputId": "29d1cdba-a6a7-4d4c-fe57-bb9f32e640ac"
      },
      "execution_count": 5,
      "outputs": [
        {
          "output_type": "stream",
          "name": "stdout",
          "text": [
            "5  6  7  11  12  13  "
          ]
        }
      ]
    }
  ]
}