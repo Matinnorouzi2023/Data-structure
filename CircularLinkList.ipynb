{
  "nbformat": 4,
  "nbformat_minor": 0,
  "metadata": {
    "colab": {
      "provenance": [],
      "include_colab_link": true
    },
    "kernelspec": {
      "name": "python3",
      "display_name": "Python 3"
    },
    "language_info": {
      "name": "python"
    }
  },
  "cells": [
    {
      "cell_type": "markdown",
      "metadata": {
        "id": "view-in-github",
        "colab_type": "text"
      },
      "source": [
        "<a href=\"https://colab.research.google.com/github/Matinnorouzi2023/Data-structure/blob/main/CircularLinkList.ipynb\" target=\"_parent\"><img src=\"https://colab.research.google.com/assets/colab-badge.svg\" alt=\"Open In Colab\"/></a>"
      ]
    },
    {
      "cell_type": "code",
      "execution_count": 3,
      "metadata": {
        "id": "xUIoWhSVn_q_"
      },
      "outputs": [],
      "source": [
        "class Node:\n",
        "    def __init__(self, data = None):\n",
        "        self.data = data\n",
        "        self.next = self"
      ]
    },
    {
      "cell_type": "code",
      "source": [
        "class CLL:\n",
        "    def __init__(self):\n",
        "        self.head = None\n",
        "        self.count = 0\n",
        "\n",
        "    def display(self):\n",
        "        if(self.head == None):\n",
        "            print(\"Empty\")\n",
        "            return\n",
        "        t = self.head\n",
        "        while(True):\n",
        "            print(t.data, end='->')\n",
        "            t = t.next\n",
        "            if (t == self.head):\n",
        "                break\n",
        "\n",
        "    def insert(self, d, i):\n",
        "        if (i > self.count) | (i < 0):\n",
        "            print('Index out of range')\n",
        "        if self.head == None:\n",
        "            self.head = Node(d)\n",
        "            self.count += 1\n",
        "            return\n",
        "        t = self.head\n",
        "        for _ in range(self.count-1 if i-1 == -1 else i-1):\n",
        "            t = t.next\n",
        "        a = t.next\n",
        "        t.next = Node(d)\n",
        "        t.next.next = a\n",
        "        if(i == 0):\n",
        "            self.head = t.next\n",
        "        self.count += 1\n",
        "        return\n",
        "\n",
        "    def remove(self, i):\n",
        "        if (i >= self.count) | (i < 0):\n",
        "            print('Index out of range')\n",
        "        if self.count == 1:\n",
        "            self.head = None\n",
        "            self.count = 0\n",
        "            return\n",
        "        t = self.head\n",
        "        for _ in range(self.count-1 if i-1 == -1 else i-1):\n",
        "            t = t.next\n",
        "        a = t.next.next\n",
        "        t.next = a\n",
        "        if(i == 0):\n",
        "            self.head = a\n",
        "        self.count -= 1\n",
        "        return\n",
        "\n",
        "    def size(self):\n",
        "        return self.count\n",
        "\n",
        "    def index(self, d):\n",
        "      t = self.head\n",
        "      for i in range(self.count):\n",
        "        if (t.data == d):\n",
        "          return i\n",
        "        t = t.next\n",
        "      return None"
      ],
      "metadata": {
        "id": "h81kKnUmy693"
      },
      "execution_count": 4,
      "outputs": []
    },
    {
      "cell_type": "code",
      "source": [
        "x  = CLL()"
      ],
      "metadata": {
        "id": "_PrDyz6W2VAW"
      },
      "execution_count": 5,
      "outputs": []
    },
    {
      "cell_type": "code",
      "source": [
        "x.display()"
      ],
      "metadata": {
        "colab": {
          "base_uri": "https://localhost:8080/"
        },
        "id": "g9wF8H2D2VNP",
        "outputId": "96e95420-7054-411c-cbb5-faaf7cdb9526"
      },
      "execution_count": null,
      "outputs": [
        {
          "output_type": "stream",
          "name": "stdout",
          "text": [
            "Empty\n"
          ]
        }
      ]
    },
    {
      "cell_type": "code",
      "source": [
        "x.insert(11,0)\n",
        "x.insert(12,1)\n",
        "x.insert(13,2)\n",
        "x.display()"
      ],
      "metadata": {
        "colab": {
          "base_uri": "https://localhost:8080/"
        },
        "id": "Vu59pwNv2VQU",
        "outputId": "19f9479a-7ab6-48de-cd36-9476fad90577"
      },
      "execution_count": 6,
      "outputs": [
        {
          "output_type": "stream",
          "name": "stdout",
          "text": [
            "11->12->13->"
          ]
        }
      ]
    },
    {
      "cell_type": "code",
      "source": [
        "x.index(15)"
      ],
      "metadata": {
        "id": "Ou5MC1if38Tb"
      },
      "execution_count": null,
      "outputs": []
    },
    {
      "cell_type": "code",
      "source": [
        "x.insert(10,0)\n",
        "x.display()"
      ],
      "metadata": {
        "colab": {
          "base_uri": "https://localhost:8080/"
        },
        "id": "vVR51mu-2qTJ",
        "outputId": "1659b66a-43cf-4d01-9492-2a1c42330836"
      },
      "execution_count": 7,
      "outputs": [
        {
          "output_type": "stream",
          "name": "stdout",
          "text": [
            "10->11->12->13->"
          ]
        }
      ]
    },
    {
      "cell_type": "code",
      "source": [
        "x.size()"
      ],
      "metadata": {
        "colab": {
          "base_uri": "https://localhost:8080/"
        },
        "id": "tmT69nlg3ZXv",
        "outputId": "96dd47d9-8efe-4f08-c725-f2088e54b0a4"
      },
      "execution_count": 8,
      "outputs": [
        {
          "output_type": "execute_result",
          "data": {
            "text/plain": [
              "4"
            ]
          },
          "metadata": {},
          "execution_count": 8
        }
      ]
    },
    {
      "cell_type": "code",
      "source": [
        "x.insert(14,4)\n",
        "x.display()"
      ],
      "metadata": {
        "colab": {
          "base_uri": "https://localhost:8080/"
        },
        "id": "9QJcbBvp2w44",
        "outputId": "4017a674-380a-4884-f175-cad120779a83"
      },
      "execution_count": 9,
      "outputs": [
        {
          "output_type": "stream",
          "name": "stdout",
          "text": [
            "10->11->12->13->14->"
          ]
        }
      ]
    },
    {
      "cell_type": "code",
      "source": [
        "x.size()"
      ],
      "metadata": {
        "colab": {
          "base_uri": "https://localhost:8080/"
        },
        "id": "6P4W3ZZZ3fyD",
        "outputId": "0c107c00-8df7-43db-9edf-3d684e70b3ab"
      },
      "execution_count": 10,
      "outputs": [
        {
          "output_type": "execute_result",
          "data": {
            "text/plain": [
              "5"
            ]
          },
          "metadata": {},
          "execution_count": 10
        }
      ]
    },
    {
      "cell_type": "code",
      "source": [
        "x.insert(20,2)\n",
        "x.display()"
      ],
      "metadata": {
        "colab": {
          "base_uri": "https://localhost:8080/"
        },
        "id": "1wFjXcgJ23hw",
        "outputId": "5b0d3bb2-ead7-497d-94bf-247f5a95ffbb"
      },
      "execution_count": 11,
      "outputs": [
        {
          "output_type": "stream",
          "name": "stdout",
          "text": [
            "10->11->20->12->13->14->"
          ]
        }
      ]
    },
    {
      "cell_type": "code",
      "source": [
        "x.remove(2)\n",
        "x.display()"
      ],
      "metadata": {
        "colab": {
          "base_uri": "https://localhost:8080/"
        },
        "id": "mf4f707s266W",
        "outputId": "37d7c935-34b8-4abe-d6dd-0dc12e808d72"
      },
      "execution_count": 12,
      "outputs": [
        {
          "output_type": "stream",
          "name": "stdout",
          "text": [
            "10->11->12->13->14->"
          ]
        }
      ]
    }
  ]
}