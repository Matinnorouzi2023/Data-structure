{
  "nbformat": 4,
  "nbformat_minor": 0,
  "metadata": {
    "colab": {
      "provenance": [],
      "include_colab_link": true
    },
    "kernelspec": {
      "name": "python3",
      "display_name": "Python 3"
    },
    "language_info": {
      "name": "python"
    }
  },
  "cells": [
    {
      "cell_type": "markdown",
      "metadata": {
        "id": "view-in-github",
        "colab_type": "text"
      },
      "source": [
        "<a href=\"https://colab.research.google.com/github/Matinnorouzi2023/Data-structure/blob/main/CircularLinkList.ipynb\" target=\"_parent\"><img src=\"https://colab.research.google.com/assets/colab-badge.svg\" alt=\"Open In Colab\"/></a>"
      ]
    },
    {
      "cell_type": "code",
      "execution_count": 1,
      "metadata": {
        "id": "xUIoWhSVn_q_"
      },
      "outputs": [],
      "source": [
        "class Node:\n",
        "    def __init__(self, data = None):\n",
        "        self.data = data\n",
        "        self.next = self"
      ]
    },
    {
      "cell_type": "code",
      "source": [
        "class CLL:\n",
        "    def __init__(self):\n",
        "        self.head = None\n",
        "        self.count = 0\n",
        "\n",
        "    def display(self):\n",
        "        if(self.head == None):\n",
        "            print(\"Empty\")\n",
        "            return\n",
        "        t = self.head\n",
        "        while(True):\n",
        "            print(t.data, end='->')\n",
        "            t = t.next\n",
        "            if (t == self.head):\n",
        "                break\n",
        "\n",
        "    def insert(self, d, i):\n",
        "        if (i > self.count) | (i < 0):\n",
        "            print('Index out of range')\n",
        "        if self.head == None:\n",
        "            self.head = Node(d)\n",
        "            self.count += 1\n",
        "            return\n",
        "        t = self.head\n",
        "        for _ in range(self.count-1 if i-1 == -1 else i-1):\n",
        "            t = t.next\n",
        "        a = t.next\n",
        "        t.next = Node(d)\n",
        "        t.next.next = a\n",
        "        if(i == 0):\n",
        "            self.head = t.next\n",
        "        self.count += 1\n",
        "        return\n",
        "\n",
        "    def remove(self, i):\n",
        "        if (i >= self.count) | (i < 0):\n",
        "            print('Index out of range')\n",
        "        if self.count == 1:\n",
        "            self.head = None\n",
        "            self.count = 0\n",
        "            return\n",
        "        t = self.head\n",
        "        for _ in range(self.count-1 if i-1 == -1 else i-1):\n",
        "            t = t.next\n",
        "        a = t.next.next\n",
        "        t.next = a\n",
        "        if(i == 0):\n",
        "            self.head = a\n",
        "        self.count -= 1\n",
        "        return\n",
        "\n",
        "    def size(self):\n",
        "        return self.count\n",
        "\n",
        "    def index(self, d):\n",
        "      t = self.head\n",
        "      for i in range(self.count):\n",
        "        if (t.data == d):\n",
        "          return i\n",
        "        t = t.next\n",
        "      return None"
      ],
      "metadata": {
        "id": "h81kKnUmy693"
      },
      "execution_count": 2,
      "outputs": []
    },
    {
      "cell_type": "code",
      "source": [
        "x  = CLL()"
      ],
      "metadata": {
        "id": "_PrDyz6W2VAW"
      },
      "execution_count": 3,
      "outputs": []
    },
    {
      "cell_type": "code",
      "source": [
        "x.display()"
      ],
      "metadata": {
        "colab": {
          "base_uri": "https://localhost:8080/"
        },
        "id": "g9wF8H2D2VNP",
        "outputId": "7bc7213e-59bd-4a4a-e8ce-a8d3405930a0"
      },
      "execution_count": 4,
      "outputs": [
        {
          "output_type": "stream",
          "name": "stdout",
          "text": [
            "Empty\n"
          ]
        }
      ]
    },
    {
      "cell_type": "code",
      "source": [
        "x.insert(11,0)\n",
        "x.insert(12,1)\n",
        "x.insert(13,2)\n",
        "x.display()"
      ],
      "metadata": {
        "colab": {
          "base_uri": "https://localhost:8080/"
        },
        "id": "Vu59pwNv2VQU",
        "outputId": "e01eab15-1c20-4f0c-c9ac-059c6e0193a2"
      },
      "execution_count": 5,
      "outputs": [
        {
          "output_type": "stream",
          "name": "stdout",
          "text": [
            "11->12->13->"
          ]
        }
      ]
    },
    {
      "cell_type": "code",
      "source": [
        "x.index(15)"
      ],
      "metadata": {
        "id": "Ou5MC1if38Tb"
      },
      "execution_count": 6,
      "outputs": []
    },
    {
      "cell_type": "code",
      "source": [
        "x.insert(10,0)\n",
        "x.display()"
      ],
      "metadata": {
        "colab": {
          "base_uri": "https://localhost:8080/"
        },
        "id": "vVR51mu-2qTJ",
        "outputId": "d8cb330a-0621-4579-9526-661087805025"
      },
      "execution_count": 7,
      "outputs": [
        {
          "output_type": "stream",
          "name": "stdout",
          "text": [
            "10->11->12->13->"
          ]
        }
      ]
    },
    {
      "cell_type": "code",
      "source": [
        "x.size()"
      ],
      "metadata": {
        "colab": {
          "base_uri": "https://localhost:8080/"
        },
        "id": "tmT69nlg3ZXv",
        "outputId": "d3bc98c9-84c0-4876-8b67-59292aac40b2"
      },
      "execution_count": 8,
      "outputs": [
        {
          "output_type": "execute_result",
          "data": {
            "text/plain": [
              "4"
            ]
          },
          "metadata": {},
          "execution_count": 8
        }
      ]
    },
    {
      "cell_type": "code",
      "source": [
        "x.insert(14,4)\n",
        "x.display()"
      ],
      "metadata": {
        "colab": {
          "base_uri": "https://localhost:8080/"
        },
        "id": "9QJcbBvp2w44",
        "outputId": "1ea15fbe-48bc-4153-db5f-aec4b1f8d3df"
      },
      "execution_count": 9,
      "outputs": [
        {
          "output_type": "stream",
          "name": "stdout",
          "text": [
            "10->11->12->13->14->"
          ]
        }
      ]
    },
    {
      "cell_type": "code",
      "source": [
        "x.size()"
      ],
      "metadata": {
        "colab": {
          "base_uri": "https://localhost:8080/"
        },
        "id": "6P4W3ZZZ3fyD",
        "outputId": "0769a61a-3196-4c7f-8da3-caa2b839a62d"
      },
      "execution_count": 10,
      "outputs": [
        {
          "output_type": "execute_result",
          "data": {
            "text/plain": [
              "5"
            ]
          },
          "metadata": {},
          "execution_count": 10
        }
      ]
    },
    {
      "cell_type": "code",
      "source": [
        "x.insert(20,2)\n",
        "x.display()"
      ],
      "metadata": {
        "colab": {
          "base_uri": "https://localhost:8080/"
        },
        "id": "1wFjXcgJ23hw",
        "outputId": "b0378d76-3f00-403c-b2e2-78fd741957c7"
      },
      "execution_count": 11,
      "outputs": [
        {
          "output_type": "stream",
          "name": "stdout",
          "text": [
            "10->11->20->12->13->14->"
          ]
        }
      ]
    },
    {
      "cell_type": "code",
      "source": [
        "x.remove(2)\n",
        "x.display()"
      ],
      "metadata": {
        "colab": {
          "base_uri": "https://localhost:8080/"
        },
        "id": "mf4f707s266W",
        "outputId": "d4e3498f-e685-4dd2-ecb1-84998a75ca23"
      },
      "execution_count": 12,
      "outputs": [
        {
          "output_type": "stream",
          "name": "stdout",
          "text": [
            "10->11->12->13->14->"
          ]
        }
      ]
    }
  ]
}