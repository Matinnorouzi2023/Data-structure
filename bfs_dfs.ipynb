{
  "cells": [
    {
      "cell_type": "markdown",
      "metadata": {
        "id": "view-in-github",
        "colab_type": "text"
      },
      "source": [
        "<a href=\"https://colab.research.google.com/github/Matinnorouzi2023/Data-structure/blob/main/bfs_dfs.ipynb\" target=\"_parent\"><img src=\"https://colab.research.google.com/assets/colab-badge.svg\" alt=\"Open In Colab\"/></a>"
      ]
    },
    {
      "cell_type": "code",
      "execution_count": 1,
      "metadata": {
        "id": "KmoUGUx2sLB5"
      },
      "outputs": [],
      "source": [
        "def bfs(G, s, v):\n",
        "    q = []\n",
        "    v.append(s)\n",
        "    q.append(s)\n",
        "    while q:\n",
        "        m = q.pop(0)\n",
        "        print(m, end=' ')\n",
        "        for n in G[m]:\n",
        "            if n not in v:\n",
        "                v.append(n)\n",
        "                q.append(n)"
      ]
    },
    {
      "cell_type": "code",
      "execution_count": 2,
      "metadata": {
        "id": "-lkPlP6luvu8"
      },
      "outputs": [],
      "source": [
        "def dfs(G, s, v):\n",
        "    if s not in v:\n",
        "        print(s, end=' ')\n",
        "        v.append(s)\n",
        "        for n in G[s]:\n",
        "            dfs(G, n, v)"
      ]
    },
    {
      "cell_type": "code",
      "execution_count": 3,
      "metadata": {
        "colab": {
          "base_uri": "https://localhost:8080/"
        },
        "id": "n8iezBYpugsn",
        "outputId": "d7debc75-80cb-49f0-870b-634d1c566f6c"
      },
      "outputs": [
        {
          "output_type": "stream",
          "name": "stdout",
          "text": [
            "0 1 2 3 4 5 6 "
          ]
        }
      ],
      "source": [
        "g = {\n",
        "  '0' : ['1','2'],\n",
        "  '1' : ['3','4'],\n",
        "  '2' : ['5','6'],\n",
        "  '3' : [],\n",
        "  '4' : [],\n",
        "  '5' : [],\n",
        "  '6' : []\n",
        "}\n",
        "v = []\n",
        "bfs(g, '0', v)"
      ]
    },
    {
      "cell_type": "code",
      "execution_count": 4,
      "metadata": {
        "colab": {
          "base_uri": "https://localhost:8080/"
        },
        "id": "8ZFUkXaOuk8e",
        "outputId": "ed3402e5-8072-4b08-8763-d44b400a2ae4"
      },
      "outputs": [
        {
          "output_type": "stream",
          "name": "stdout",
          "text": [
            "s w r t x v u y "
          ]
        }
      ],
      "source": [
        "g = {\n",
        "  's' : ['w','r'],\n",
        "  'r' : ['v'],\n",
        "  'w' : ['t','x'],\n",
        "  'x' : ['y','u'],\n",
        "  't' : ['u'],\n",
        "  'y' : ['u'],\n",
        "  'v' : [],\n",
        "  'u' : []\n",
        "}\n",
        "v = []\n",
        "bfs(g, 's', v)"
      ]
    },
    {
      "cell_type": "code",
      "execution_count": 5,
      "metadata": {
        "colab": {
          "base_uri": "https://localhost:8080/"
        },
        "id": "h6zVv5Yru-Ln",
        "outputId": "fa9028b8-e652-45f9-94cf-3da5195b5391"
      },
      "outputs": [
        {
          "output_type": "stream",
          "name": "stdout",
          "text": [
            "0 1 3 4 2 5 6 "
          ]
        }
      ],
      "source": [
        "g = {\n",
        "  '0' : ['1','2'],\n",
        "  '1' : ['3','4'],\n",
        "  '2' : ['5','6'],\n",
        "  '3' : [],\n",
        "  '4' : [],\n",
        "  '5' : [],\n",
        "  '6' : []\n",
        "}\n",
        "v = []\n",
        "dfs(g, '0', v)"
      ]
    },
    {
      "cell_type": "code",
      "execution_count": 6,
      "metadata": {
        "colab": {
          "base_uri": "https://localhost:8080/"
        },
        "id": "13c15BcQvCvf",
        "outputId": "2a65193d-9f30-4ecf-de7a-d894bb772b0a"
      },
      "outputs": [
        {
          "output_type": "stream",
          "name": "stdout",
          "text": [
            "0 1 2 4 5 6 3 "
          ]
        }
      ],
      "source": [
        "g = {\n",
        "       \"0\":[\"1\", \"2\", \"3\"],\n",
        "       \"1\":[\"2\"],\n",
        "       \"2\":[\"4\", \"5\", \"3\"],\n",
        "       \"3\":[],\n",
        "       \"4\":[],\n",
        "       \"5\":[\"6\"],\n",
        "       \"6\":[]\n",
        "    }\n",
        "v = []\n",
        "dfs(g, '0', v)"
      ]
    }
  ],
  "metadata": {
    "colab": {
      "provenance": [],
      "include_colab_link": true
    },
    "kernelspec": {
      "display_name": "Python 3",
      "name": "python3"
    },
    "language_info": {
      "codemirror_mode": {
        "name": "ipython",
        "version": 3
      },
      "file_extension": ".py",
      "mimetype": "text/x-python",
      "name": "python",
      "nbconvert_exporter": "python",
      "pygments_lexer": "ipython3",
      "version": "3.12.0"
    }
  },
  "nbformat": 4,
  "nbformat_minor": 0
}