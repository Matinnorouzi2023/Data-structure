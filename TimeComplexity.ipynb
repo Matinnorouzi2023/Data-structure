{
  "cells": [
    {
      "cell_type": "markdown",
      "metadata": {
        "id": "view-in-github",
        "colab_type": "text"
      },
      "source": [
        "<a href=\"https://colab.research.google.com/github/Matinnorouzi2023/Data-structure/blob/main/TimeComplexity.ipynb\" target=\"_parent\"><img src=\"https://colab.research.google.com/assets/colab-badge.svg\" alt=\"Open In Colab\"/></a>"
      ]
    },
    {
      "cell_type": "code",
      "execution_count": 1,
      "id": "1d70317c",
      "metadata": {
        "colab": {
          "base_uri": "https://localhost:8080/"
        },
        "id": "1d70317c",
        "outputId": "de9ca316-f006-4974-f784-1460484131e4"
      },
      "outputs": [
        {
          "output_type": "stream",
          "name": "stdout",
          "text": [
            "7.79 ns ± 3.32 ns per loop (mean ± std. dev. of 7 runs, 100000000 loops each)\n"
          ]
        }
      ],
      "source": [
        "timeit '[print(x) for x in range(10)]'"
      ]
    },
    {
      "cell_type": "code",
      "execution_count": 2,
      "id": "44b405da",
      "metadata": {
        "id": "44b405da"
      },
      "outputs": [],
      "source": [
        "#"
      ]
    },
    {
      "cell_type": "code",
      "execution_count": 3,
      "id": "eff420e6",
      "metadata": {
        "id": "eff420e6"
      },
      "outputs": [],
      "source": [
        "def f(lst):        # linear : O(n)\n",
        "    c = 0\n",
        "    for i in lst:\n",
        "        c += 1\n",
        "    return c"
      ]
    },
    {
      "cell_type": "code",
      "execution_count": 4,
      "id": "a3ab28c1",
      "metadata": {
        "colab": {
          "base_uri": "https://localhost:8080/"
        },
        "id": "a3ab28c1",
        "outputId": "15b5f69c-afa3-46a3-a4cb-1e93e8413576"
      },
      "outputs": [
        {
          "output_type": "execute_result",
          "data": {
            "text/plain": [
              "5"
            ]
          },
          "metadata": {},
          "execution_count": 4
        }
      ],
      "source": [
        "x = [3, 8, 7 , 18 , 20]\n",
        "f(x)"
      ]
    },
    {
      "cell_type": "code",
      "execution_count": 5,
      "id": "64ff2cc2",
      "metadata": {
        "colab": {
          "base_uri": "https://localhost:8080/"
        },
        "id": "64ff2cc2",
        "outputId": "265754f6-0c84-4b50-c560-11ce575c2c79"
      },
      "outputs": [
        {
          "output_type": "stream",
          "name": "stdout",
          "text": [
            "208 ns ± 30.7 ns per loop (mean ± std. dev. of 7 runs, 1000000 loops each)\n"
          ]
        }
      ],
      "source": [
        "timeit f(x)"
      ]
    },
    {
      "cell_type": "code",
      "execution_count": 6,
      "id": "257b5aca",
      "metadata": {
        "id": "257b5aca"
      },
      "outputs": [],
      "source": [
        "#"
      ]
    },
    {
      "cell_type": "code",
      "execution_count": 7,
      "id": "738e6650",
      "metadata": {
        "id": "738e6650"
      },
      "outputs": [],
      "source": [
        "def g(lst):        # quadratic : O(n^2)\n",
        "    c = 0\n",
        "    for i in lst:\n",
        "        for j in lst:\n",
        "            c += 1\n",
        "    return c"
      ]
    },
    {
      "cell_type": "code",
      "execution_count": 8,
      "id": "c74b4703",
      "metadata": {
        "colab": {
          "base_uri": "https://localhost:8080/"
        },
        "id": "c74b4703",
        "outputId": "e5ef8b49-d51a-4687-9f58-4751eae63926"
      },
      "outputs": [
        {
          "output_type": "execute_result",
          "data": {
            "text/plain": [
              "25"
            ]
          },
          "metadata": {},
          "execution_count": 8
        }
      ],
      "source": [
        "x = [1, 2, 3, 8, 20]\n",
        "g(x)"
      ]
    },
    {
      "cell_type": "code",
      "execution_count": 9,
      "id": "63f7b294",
      "metadata": {
        "colab": {
          "base_uri": "https://localhost:8080/"
        },
        "id": "63f7b294",
        "outputId": "eb28e822-ff6e-4b90-8268-c4f6d73cbd76"
      },
      "outputs": [
        {
          "output_type": "stream",
          "name": "stdout",
          "text": [
            "765 ns ± 12.4 ns per loop (mean ± std. dev. of 7 runs, 1000000 loops each)\n"
          ]
        }
      ],
      "source": [
        "timeit g(x)"
      ]
    },
    {
      "cell_type": "code",
      "execution_count": 10,
      "id": "dcdf43ae",
      "metadata": {
        "id": "dcdf43ae"
      },
      "outputs": [],
      "source": [
        "#"
      ]
    },
    {
      "cell_type": "code",
      "execution_count": 11,
      "id": "7fbfc81a",
      "metadata": {
        "id": "7fbfc81a"
      },
      "outputs": [],
      "source": [
        "def h(lst):              # O(3) + O(n) + O(n) + O(2) = O(n)\n",
        "    for i in range(3):\n",
        "        print(\"python\")\n",
        "\n",
        "    for j in lst:\n",
        "        print(j)\n",
        "\n",
        "    for k in lst:\n",
        "        print(k*3)\n",
        "\n",
        "    print(\"java\")\n",
        "    print(\"php\")"
      ]
    },
    {
      "cell_type": "code",
      "execution_count": 12,
      "id": "a8c629bc",
      "metadata": {
        "colab": {
          "base_uri": "https://localhost:8080/"
        },
        "id": "a8c629bc",
        "outputId": "18cca6f7-903b-42b6-9c74-0c8c1c2dc7f6"
      },
      "outputs": [
        {
          "output_type": "stream",
          "name": "stdout",
          "text": [
            "python\n",
            "python\n",
            "python\n",
            "1\n",
            "2\n",
            "3\n",
            "3\n",
            "6\n",
            "9\n",
            "java\n",
            "php\n"
          ]
        }
      ],
      "source": [
        "h([1,2,3])"
      ]
    },
    {
      "cell_type": "code",
      "execution_count": 13,
      "id": "267108d8",
      "metadata": {
        "id": "267108d8"
      },
      "outputs": [],
      "source": [
        "# 5!  = 1 * 2 * 3 * 4 * 5 = 120"
      ]
    },
    {
      "cell_type": "code",
      "execution_count": 14,
      "id": "528c950d",
      "metadata": {
        "id": "528c950d"
      },
      "outputs": [],
      "source": [
        "def fact(n):\n",
        "    p = 1\n",
        "    for i in range(n):\n",
        "        p = p * (i+1)\n",
        "    return p"
      ]
    },
    {
      "cell_type": "code",
      "execution_count": 15,
      "id": "dcce8dd7",
      "metadata": {
        "colab": {
          "base_uri": "https://localhost:8080/"
        },
        "id": "dcce8dd7",
        "outputId": "80ee81f9-ec6c-4c71-f6e0-f005424f2e40"
      },
      "outputs": [
        {
          "output_type": "execute_result",
          "data": {
            "text/plain": [
              "120"
            ]
          },
          "metadata": {},
          "execution_count": 15
        }
      ],
      "source": [
        "fact(5)"
      ]
    },
    {
      "cell_type": "code",
      "execution_count": 16,
      "id": "463d2563",
      "metadata": {
        "id": "463d2563"
      },
      "outputs": [],
      "source": [
        "# n! = n * (n-1)\n",
        "\n",
        "def fact2(n):\n",
        "    if n == 0:\n",
        "        return 1\n",
        "    else:\n",
        "        return n * fact2(n-1)"
      ]
    },
    {
      "cell_type": "code",
      "execution_count": 17,
      "id": "0de8777b",
      "metadata": {
        "colab": {
          "base_uri": "https://localhost:8080/"
        },
        "id": "0de8777b",
        "outputId": "c40fcf2e-5922-4b63-de8e-63ea30c8815d"
      },
      "outputs": [
        {
          "output_type": "stream",
          "name": "stdout",
          "text": [
            "120\n"
          ]
        }
      ],
      "source": [
        "print(fact2(5))"
      ]
    },
    {
      "cell_type": "code",
      "execution_count": 18,
      "id": "3a87e3ba",
      "metadata": {
        "colab": {
          "base_uri": "https://localhost:8080/"
        },
        "id": "3a87e3ba",
        "outputId": "8af9b0e9-df86-4988-b355-e37ccc3dd3ed"
      },
      "outputs": [
        {
          "output_type": "stream",
          "name": "stdout",
          "text": [
            "2.66 µs ± 80.7 ns per loop (mean ± std. dev. of 7 runs, 100000 loops each)\n"
          ]
        }
      ],
      "source": [
        "timeit fact(50)"
      ]
    },
    {
      "cell_type": "code",
      "execution_count": 19,
      "id": "538667ba",
      "metadata": {
        "colab": {
          "base_uri": "https://localhost:8080/"
        },
        "id": "538667ba",
        "outputId": "139faf37-1f52-4921-da27-4f34e878a91e"
      },
      "outputs": [
        {
          "output_type": "stream",
          "name": "stdout",
          "text": [
            "6 µs ± 1.2 µs per loop (mean ± std. dev. of 7 runs, 100000 loops each)\n"
          ]
        }
      ],
      "source": [
        "timeit fact2(50)"
      ]
    },
    {
      "cell_type": "code",
      "execution_count": 20,
      "id": "5b1c8d3d",
      "metadata": {
        "id": "5b1c8d3d"
      },
      "outputs": [],
      "source": [
        "#"
      ]
    },
    {
      "cell_type": "code",
      "execution_count": 21,
      "id": "f48dabc6",
      "metadata": {
        "id": "f48dabc6"
      },
      "outputs": [],
      "source": [
        "from timeit import Timer"
      ]
    },
    {
      "cell_type": "code",
      "execution_count": 22,
      "id": "4c3e6885",
      "metadata": {
        "colab": {
          "base_uri": "https://localhost:8080/"
        },
        "id": "4c3e6885",
        "outputId": "406a6f79-4ae3-4e2a-82c4-f91e70053eea"
      },
      "outputs": [
        {
          "output_type": "execute_result",
          "data": {
            "text/plain": [
              "2.6992162020000023"
            ]
          },
          "metadata": {},
          "execution_count": 22
        }
      ],
      "source": [
        "Timer(lambda : fact(50)).timeit()"
      ]
    },
    {
      "cell_type": "code",
      "execution_count": 23,
      "id": "01f11b26",
      "metadata": {
        "colab": {
          "base_uri": "https://localhost:8080/"
        },
        "id": "01f11b26",
        "outputId": "8983b754-497c-40b1-e7c0-fa288a5fb17b"
      },
      "outputs": [
        {
          "output_type": "execute_result",
          "data": {
            "text/plain": [
              "6.251963116999988"
            ]
          },
          "metadata": {},
          "execution_count": 23
        }
      ],
      "source": [
        "Timer(lambda : fact2(50)).timeit()"
      ]
    },
    {
      "cell_type": "markdown",
      "id": "e3c3ccbc",
      "metadata": {
        "id": "e3c3ccbc"
      },
      "source": [
        "# big-o"
      ]
    },
    {
      "cell_type": "code",
      "execution_count": 26,
      "id": "f646c633",
      "metadata": {
        "colab": {
          "base_uri": "https://localhost:8080/"
        },
        "id": "f646c633",
        "outputId": "cb287546-9a7f-4eb6-9789-4075072c7894"
      },
      "outputs": [
        {
          "output_type": "stream",
          "name": "stdout",
          "text": [
            "Collecting big-o\n",
            "  Downloading big_O-0.11.0.tar.gz (11 kB)\n",
            "  Preparing metadata (setup.py) ... \u001b[?25l\u001b[?25hdone\n",
            "Requirement already satisfied: numpy in /usr/local/lib/python3.10/dist-packages (from big-o) (1.23.5)\n",
            "Building wheels for collected packages: big-o\n",
            "  Building wheel for big-o (setup.py) ... \u001b[?25l\u001b[?25hdone\n",
            "  Created wheel for big-o: filename=big_O-0.11.0-py3-none-any.whl size=14119 sha256=b7b3a59277a309b8930379314c8990ba9503797ee4a6d108328c6f31dd2dfcd3\n",
            "  Stored in directory: /root/.cache/pip/wheels/38/29/38/4df65acf36af6a8fc03e1a4c6f4ab63abf476fccaeeed65182\n",
            "Successfully built big-o\n",
            "Installing collected packages: big-o\n",
            "Successfully installed big-o-0.11.0\n"
          ]
        }
      ],
      "source": [
        "pip install big-o"
      ]
    },
    {
      "cell_type": "code",
      "execution_count": 27,
      "id": "86934c92",
      "metadata": {
        "id": "86934c92"
      },
      "outputs": [],
      "source": [
        "import big_o"
      ]
    },
    {
      "cell_type": "code",
      "execution_count": 28,
      "id": "5dc6b12f",
      "metadata": {
        "id": "5dc6b12f"
      },
      "outputs": [],
      "source": [
        "d = lambda n: big_o.datagen.integers(n, 0, 5)"
      ]
    },
    {
      "cell_type": "code",
      "execution_count": 29,
      "id": "88839c50",
      "metadata": {
        "id": "88839c50"
      },
      "outputs": [],
      "source": [
        "def f(lst):\n",
        "     return lst[0]"
      ]
    },
    {
      "cell_type": "code",
      "execution_count": 30,
      "id": "15f11a0a",
      "metadata": {
        "colab": {
          "base_uri": "https://localhost:8080/"
        },
        "id": "15f11a0a",
        "outputId": "108041da-d2d2-48d9-d106-13bfe7a0c3db"
      },
      "outputs": [
        {
          "output_type": "execute_result",
          "data": {
            "text/plain": [
              "19"
            ]
          },
          "metadata": {},
          "execution_count": 30
        }
      ],
      "source": [
        "lst = [19, 18, 30, 7]\n",
        "f(lst)"
      ]
    },
    {
      "cell_type": "code",
      "execution_count": 31,
      "id": "8ac6c302",
      "metadata": {
        "colab": {
          "base_uri": "https://localhost:8080/"
        },
        "id": "8ac6c302",
        "outputId": "70b8062c-97f3-41ef-89ce-9c30bca49956"
      },
      "outputs": [
        {
          "output_type": "stream",
          "name": "stdout",
          "text": [
            "Constant: time = 2.5E-05 (sec)\n"
          ]
        }
      ],
      "source": [
        "print(big_o.big_o(f, d, n_repeats=100)[0])"
      ]
    },
    {
      "cell_type": "code",
      "execution_count": 32,
      "id": "9d75e08d",
      "metadata": {
        "id": "9d75e08d"
      },
      "outputs": [],
      "source": [
        "#"
      ]
    },
    {
      "cell_type": "code",
      "execution_count": 33,
      "id": "caf3ab0e",
      "metadata": {
        "id": "caf3ab0e"
      },
      "outputs": [],
      "source": [
        "def addfirst(lst):\n",
        "     lst.insert(0, 13)"
      ]
    },
    {
      "cell_type": "code",
      "execution_count": 34,
      "id": "3db2246e",
      "metadata": {
        "colab": {
          "base_uri": "https://localhost:8080/"
        },
        "id": "3db2246e",
        "outputId": "f2205c43-3d41-4939-a96e-bb8fb9637b8e"
      },
      "outputs": [
        {
          "output_type": "execute_result",
          "data": {
            "text/plain": [
              "[13, 23, 19, 18, 30, 7]"
            ]
          },
          "metadata": {},
          "execution_count": 34
        }
      ],
      "source": [
        "lst = [23, 19, 18, 30, 7]\n",
        "addfirst(lst)\n",
        "lst"
      ]
    },
    {
      "cell_type": "code",
      "execution_count": 35,
      "id": "25200b7a",
      "metadata": {
        "colab": {
          "base_uri": "https://localhost:8080/"
        },
        "id": "25200b7a",
        "outputId": "66c0fc52-f910-4028-862b-ef5eeca4b230"
      },
      "outputs": [
        {
          "output_type": "stream",
          "name": "stdout",
          "text": [
            "Linear: time = -3.7E-05 + 3.6E-08*n (sec)\n"
          ]
        }
      ],
      "source": [
        "print(big_o.big_o(addfirst, d, n_repeats=100)[0])  # a + b * n : O(n)"
      ]
    },
    {
      "cell_type": "code",
      "execution_count": 36,
      "id": "8c102479",
      "metadata": {
        "id": "8c102479"
      },
      "outputs": [],
      "source": [
        "#"
      ]
    },
    {
      "cell_type": "code",
      "execution_count": 37,
      "id": "7e3c5fae",
      "metadata": {
        "id": "7e3c5fae"
      },
      "outputs": [],
      "source": [
        "def addlast(lst):\n",
        "     lst.insert(len(lst), 222)"
      ]
    },
    {
      "cell_type": "code",
      "execution_count": 38,
      "id": "c8accf9d",
      "metadata": {
        "colab": {
          "base_uri": "https://localhost:8080/"
        },
        "id": "c8accf9d",
        "outputId": "3e4ee690-9caa-4c7b-abc5-3e58e4e68d30"
      },
      "outputs": [
        {
          "output_type": "execute_result",
          "data": {
            "text/plain": [
              "[23, 19, 18, 30, 7, 222]"
            ]
          },
          "metadata": {},
          "execution_count": 38
        }
      ],
      "source": [
        "lst = [23, 19, 18, 30, 7]\n",
        "addlast(lst)\n",
        "lst"
      ]
    },
    {
      "cell_type": "code",
      "execution_count": 39,
      "id": "ffce8637",
      "metadata": {
        "colab": {
          "base_uri": "https://localhost:8080/"
        },
        "id": "ffce8637",
        "outputId": "ced4e23f-290c-4585-f0a6-a57d21cfeb24"
      },
      "outputs": [
        {
          "output_type": "stream",
          "name": "stdout",
          "text": [
            "Constant: time = 2.4E-05 (sec)\n"
          ]
        }
      ],
      "source": [
        "print(big_o.big_o(addlast, d, n_repeats=100)[0])"
      ]
    },
    {
      "cell_type": "code",
      "execution_count": 39,
      "id": "b11bdfe0",
      "metadata": {
        "id": "b11bdfe0"
      },
      "outputs": [],
      "source": []
    }
  ],
  "metadata": {
    "kernelspec": {
      "display_name": "Python 3",
      "language": "python",
      "name": "python3"
    },
    "language_info": {
      "codemirror_mode": {
        "name": "ipython",
        "version": 3
      },
      "file_extension": ".py",
      "mimetype": "text/x-python",
      "name": "python",
      "nbconvert_exporter": "python",
      "pygments_lexer": "ipython3",
      "version": "3.8.8"
    },
    "colab": {
      "provenance": [],
      "include_colab_link": true
    }
  },
  "nbformat": 4,
  "nbformat_minor": 5
}