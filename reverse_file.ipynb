{
  "nbformat": 4,
  "nbformat_minor": 0,
  "metadata": {
    "colab": {
      "provenance": [],
      "include_colab_link": true
    },
    "kernelspec": {
      "name": "python3",
      "display_name": "Python 3"
    },
    "language_info": {
      "name": "python"
    }
  },
  "cells": [
    {
      "cell_type": "markdown",
      "metadata": {
        "id": "view-in-github",
        "colab_type": "text"
      },
      "source": [
        "<a href=\"https://colab.research.google.com/github/Matinnorouzi2023/Data-structure/blob/main/reverse_file.ipynb\" target=\"_parent\"><img src=\"https://colab.research.google.com/assets/colab-badge.svg\" alt=\"Open In Colab\"/></a>"
      ]
    },
    {
      "cell_type": "code",
      "source": [
        "pip install pygorithm"
      ],
      "metadata": {
        "colab": {
          "base_uri": "https://localhost:8080/"
        },
        "id": "ZCMuZn1WCo6i",
        "outputId": "f1952490-fc81-4edc-9b10-e19665a62226"
      },
      "execution_count": 16,
      "outputs": [
        {
          "output_type": "stream",
          "name": "stdout",
          "text": [
            "Requirement already satisfied: pygorithm in /usr/local/lib/python3.10/dist-packages (1.0.4)\n"
          ]
        }
      ]
    },
    {
      "cell_type": "code",
      "source": [
        "from pygorithm.data_structures.stack import Stack"
      ],
      "metadata": {
        "id": "mhJIWvK5AtrE"
      },
      "execution_count": 21,
      "outputs": []
    },
    {
      "cell_type": "code",
      "source": [
        "def reverse(f1,f2):\n",
        "  s = Stack()\n",
        "  fh1 = open(f1, 'r')\n",
        "  for i in fh1:\n",
        "    x = i.rstrip('\\n')\n",
        "    s.push(x)\n",
        "  fh1.close()\n",
        "\n",
        "  fh2 = open(f2, 'w')\n",
        "  while not s.is_empty():\n",
        "    y = s.pop()\n",
        "    fh2.write(y + '\\n')\n",
        "  fh2.close()\n"
      ],
      "metadata": {
        "id": "ijt7_CB_A1eX"
      },
      "execution_count": 22,
      "outputs": []
    },
    {
      "cell_type": "code",
      "source": [
        "reverse('a.txt','b.txt')"
      ],
      "metadata": {
        "id": "ecDuXJpkDlqt"
      },
      "execution_count": 20,
      "outputs": []
    },
    {
      "cell_type": "code",
      "source": [
        "from google.colab import drive\n",
        "drive.mount('/content/drive')"
      ],
      "metadata": {
        "colab": {
          "base_uri": "https://localhost:8080/"
        },
        "id": "G4ijD58L2fnz",
        "outputId": "ff8dfc3c-8107-43f2-a624-bec1439d7181"
      },
      "execution_count": 23,
      "outputs": [
        {
          "output_type": "stream",
          "name": "stdout",
          "text": [
            "Mounted at /content/drive\n"
          ]
        }
      ]
    }
  ]
}