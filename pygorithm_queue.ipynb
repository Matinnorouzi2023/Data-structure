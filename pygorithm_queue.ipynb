{
  "cells": [
    {
      "cell_type": "code",
      "execution_count": 1,
      "metadata": {
        "colab": {
          "base_uri": "https://localhost:8080/"
        },
        "id": "hW0B0I-0q4T6",
        "outputId": "225db863-2584-49a9-b8cf-ef614281d336"
      },
      "outputs": [
        {
          "name": "stdout",
          "output_type": "stream",
          "text": [
            "Requirement already satisfied: pygorithm in c:\\users\\matin\\appdata\\local\\programs\\python\\python312\\lib\\site-packages (1.0.4)\n",
            "Note: you may need to restart the kernel to use updated packages.\n"
          ]
        },
        {
          "name": "stderr",
          "output_type": "stream",
          "text": [
            "\n",
            "[notice] A new release of pip is available: 23.2.1 -> 23.3.1\n",
            "[notice] To update, run: python.exe -m pip install --upgrade pip\n"
          ]
        }
      ],
      "source": [
        "pip install pygorithm"
      ]
    },
    {
      "cell_type": "code",
      "execution_count": 2,
      "metadata": {
        "id": "gZiGFiszq4Q9"
      },
      "outputs": [],
      "source": [
        "from pygorithm import data_structures"
      ]
    },
    {
      "cell_type": "code",
      "execution_count": 3,
      "metadata": {
        "colab": {
          "base_uri": "https://localhost:8080/"
        },
        "id": "n-VSFQHrq4N3",
        "outputId": "bfa2a77e-4350-45b8-ff3e-ef232e903035"
      },
      "outputs": [
        {
          "name": "stdout",
          "output_type": "stream",
          "text": [
            "Help on package pygorithm.data_structures in pygorithm:\n",
            "\n",
            "NAME\n",
            "    pygorithm.data_structures - Collection of data structure examples\n",
            "\n",
            "PACKAGE CONTENTS\n",
            "    graph\n",
            "    heap\n",
            "    linked_list\n",
            "    quadtree\n",
            "    queue\n",
            "    stack\n",
            "    tree\n",
            "    trie\n",
            "\n",
            "DATA\n",
            "    __all__ = ['graph', 'heap', 'linked_list', 'queue', 'stack', 'tree', '...\n",
            "\n",
            "FILE\n",
            "    c:\\users\\matin\\appdata\\local\\programs\\python\\python312\\lib\\site-packages\\pygorithm\\data_structures\\__init__.py\n",
            "\n",
            "\n"
          ]
        }
      ],
      "source": [
        "help(data_structures)"
      ]
    },
    {
      "cell_type": "code",
      "execution_count": 4,
      "metadata": {
        "colab": {
          "base_uri": "https://localhost:8080/"
        },
        "id": "XqurePxvq4Di",
        "outputId": "a0d5d797-fa29-452d-86f0-012c3c1e1e5d"
      },
      "outputs": [
        {
          "name": "stdout",
          "output_type": "stream",
          "text": [
            "Help on package pygorithm.sorting in pygorithm:\n",
            "\n",
            "NAME\n",
            "    pygorithm.sorting - Collection of sorting methods\n",
            "\n",
            "PACKAGE CONTENTS\n",
            "    bubble_sort\n",
            "    bucket_sort\n",
            "    counting_sort\n",
            "    heap_sort\n",
            "    insertion_sort\n",
            "    merge_sort\n",
            "    quick_sort\n",
            "    selection_sort\n",
            "    shell_sort\n",
            "\n",
            "DATA\n",
            "    __all__ = ['bubble_sort', 'bucket_sort', 'counting_sort', 'heap_sort',...\n",
            "\n",
            "FILE\n",
            "    c:\\users\\matin\\appdata\\local\\programs\\python\\python312\\lib\\site-packages\\pygorithm\\sorting\\__init__.py\n",
            "\n",
            "\n"
          ]
        }
      ],
      "source": [
        "from pygorithm import sorting\n",
        "help(sorting)"
      ]
    },
    {
      "cell_type": "code",
      "execution_count": 5,
      "metadata": {
        "colab": {
          "base_uri": "https://localhost:8080/"
        },
        "id": "lg4F4pSqq4AA",
        "outputId": "55b36757-2c89-4795-997c-3da8344a9900"
      },
      "outputs": [
        {
          "name": "stdout",
          "output_type": "stream",
          "text": [
            "class Queue(object):\n",
            "    \"\"\"Queue\n",
            "    Queue implementation\n",
            "    \"\"\"\n",
            "    def __init__(self, limit=10):\n",
            "        \"\"\"\n",
            "        :param limit: Queue limit size, default @ 10\n",
            "        \"\"\"\n",
            "        self.queue = []\n",
            "        self.front = None\n",
            "        self.rear = None\n",
            "        self.limit = limit\n",
            "        self.size = 0\n",
            "\n",
            "    def __str__(self):\n",
            "        return ' '.join([str(i) for i in self.queue])\n",
            "\n",
            "    def size(self):\n",
            "        \"\"\"\n",
            "        returns the current size of the queue\n",
            "        \"\"\"\n",
            "        return self.size\n",
            "\n",
            "    def is_empty(self):\n",
            "        \"\"\"\n",
            "        checks if the queue is empty\n",
            "        \"\"\"\n",
            "        return self.size <= 0\n",
            "\n",
            "    def enqueue(self, data):\n",
            "        \"\"\"\n",
            "        inserts an item into the queue\n",
            "        \"\"\"\n",
            "        if self.size >= self.limit:\n",
            "            # queue overflow\n",
            "            return -1\n",
            "        else:\n",
            "            self.queue.append(data)\n",
            "\n",
            "        # assign the rear as size of the queue and front as 0\n",
            "        if self.front is None:\n",
            "            self.front = self.rear = 0\n",
            "        else:\n",
            "            self.rear = self.size\n",
            "\n",
            "        self.size += 1\n",
            "\n",
            "    def dequeue(self):\n",
            "        \"\"\"\n",
            "        pops an item from the queue which was first inserted\n",
            "        \"\"\"\n",
            "        if self.is_empty():\n",
            "            # queue underflow\n",
            "            return -1\n",
            "        else:\n",
            "            self.size -= 1\n",
            "            if self.size == 0:\n",
            "                self.front = self.rear = 0\n",
            "            else:\n",
            "                self.rear = self.size - 1\n",
            "            return self.queue.pop(0)\n",
            "\n",
            "    def get_code(self):\n",
            "        \"\"\"\n",
            "        Return source code for Queue class\n",
            "        :return:\n",
            "        \"\"\"\n",
            "        return inspect.getsource(Queue)\n",
            "\n"
          ]
        }
      ],
      "source": [
        "from pygorithm.data_structures.queue import Queue\n",
        "q = Queue()\n",
        "print(q.get_code())"
      ]
    },
    {
      "cell_type": "code",
      "execution_count": 7,
      "metadata": {
        "colab": {
          "base_uri": "https://localhost:8080/"
        },
        "id": "ejun4Lvnq380",
        "outputId": "76c35bb1-3c46-4d4f-ed8c-8eae6546b859"
      },
      "outputs": [
        {
          "name": "stdout",
          "output_type": "stream",
          "text": [
            "A B C\n",
            "B C\n"
          ]
        }
      ],
      "source": [
        "q = Queue()\n",
        "\n",
        "q.enqueue('A')\n",
        "q.enqueue('B')\n",
        "q.enqueue('C')\n",
        "\n",
        "print(q)\n",
        "\n",
        "q.dequeue()\n",
        "print(q)"
      ]
    }
  ],
  "metadata": {
    "colab": {
      "name": "pygorithm_queue.ipynb",
      "provenance": []
    },
    "kernelspec": {
      "display_name": "Python 3",
      "name": "python3"
    },
    "language_info": {
      "codemirror_mode": {
        "name": "ipython",
        "version": 3
      },
      "file_extension": ".py",
      "mimetype": "text/x-python",
      "name": "python",
      "nbconvert_exporter": "python",
      "pygments_lexer": "ipython3",
      "version": "3.12.0"
    }
  },
  "nbformat": 4,
  "nbformat_minor": 0
}
