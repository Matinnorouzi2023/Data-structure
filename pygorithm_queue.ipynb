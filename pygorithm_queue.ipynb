{
  "nbformat": 4,
  "nbformat_minor": 0,
  "metadata": {
    "colab": {
      "provenance": [],
      "include_colab_link": true
    },
    "kernelspec": {
      "name": "python3",
      "display_name": "Python 3"
    },
    "language_info": {
      "name": "python"
    }
  },
  "cells": [
    {
      "cell_type": "markdown",
      "metadata": {
        "id": "view-in-github",
        "colab_type": "text"
      },
      "source": [
        "<a href=\"https://colab.research.google.com/github/Matinnorouzi2023/Data-structure/blob/main/pygorithm_queue.ipynb\" target=\"_parent\"><img src=\"https://colab.research.google.com/assets/colab-badge.svg\" alt=\"Open In Colab\"/></a>"
      ]
    },
    {
      "cell_type": "code",
      "source": [
        "pip install pygorithm"
      ],
      "metadata": {
        "colab": {
          "base_uri": "https://localhost:8080/"
        },
        "id": "hW0B0I-0q4T6",
        "outputId": "3ca0f66f-1ecb-4afc-f894-9cd627b7650a"
      },
      "execution_count": 1,
      "outputs": [
        {
          "output_type": "stream",
          "name": "stdout",
          "text": [
            "Collecting pygorithm\n",
            "  Downloading pygorithm-1.0.4-py2.py3-none-any.whl (98 kB)\n",
            "\u001b[2K     \u001b[90m━━━━━━━━━━━━━━━━━━━━━━━━━━━━━━━━━━━━━━━━\u001b[0m \u001b[32m98.6/98.6 kB\u001b[0m \u001b[31m2.9 MB/s\u001b[0m eta \u001b[36m0:00:00\u001b[0m\n",
            "\u001b[?25hInstalling collected packages: pygorithm\n",
            "Successfully installed pygorithm-1.0.4\n"
          ]
        }
      ]
    },
    {
      "cell_type": "code",
      "source": [
        "from pygorithm import data_structures"
      ],
      "metadata": {
        "id": "gZiGFiszq4Q9"
      },
      "execution_count": 3,
      "outputs": []
    },
    {
      "cell_type": "code",
      "source": [
        "help(data_structures)"
      ],
      "metadata": {
        "colab": {
          "base_uri": "https://localhost:8080/"
        },
        "id": "n-VSFQHrq4N3",
        "outputId": "bfa2a77e-4350-45b8-ff3e-ef232e903035"
      },
      "execution_count": null,
      "outputs": [
        {
          "output_type": "stream",
          "name": "stdout",
          "text": [
            "Help on package pygorithm.data_structures in pygorithm:\n",
            "\n",
            "NAME\n",
            "    pygorithm.data_structures - Collection of data structure examples\n",
            "\n",
            "PACKAGE CONTENTS\n",
            "    graph\n",
            "    heap\n",
            "    linked_list\n",
            "    quadtree\n",
            "    queue\n",
            "    stack\n",
            "    tree\n",
            "    trie\n",
            "\n",
            "DATA\n",
            "    __all__ = ['graph', 'heap', 'linked_list', 'queue', 'stack', 'tree', '...\n",
            "\n",
            "FILE\n",
            "    /usr/local/lib/python3.7/dist-packages/pygorithm/data_structures/__init__.py\n",
            "\n",
            "\n"
          ]
        }
      ]
    },
    {
      "cell_type": "code",
      "source": [
        "from pygorithm import sorting\n",
        "help(sorting)"
      ],
      "metadata": {
        "colab": {
          "base_uri": "https://localhost:8080/"
        },
        "id": "XqurePxvq4Di",
        "outputId": "19cc4294-4b4f-4349-da9d-0c0d7aefeafc"
      },
      "execution_count": 4,
      "outputs": [
        {
          "output_type": "stream",
          "name": "stdout",
          "text": [
            "Help on package pygorithm.sorting in pygorithm:\n",
            "\n",
            "NAME\n",
            "    pygorithm.sorting - Collection of sorting methods\n",
            "\n",
            "PACKAGE CONTENTS\n",
            "    bubble_sort\n",
            "    bucket_sort\n",
            "    counting_sort\n",
            "    heap_sort\n",
            "    insertion_sort\n",
            "    merge_sort\n",
            "    quick_sort\n",
            "    selection_sort\n",
            "    shell_sort\n",
            "\n",
            "DATA\n",
            "    __all__ = ['bubble_sort', 'bucket_sort', 'counting_sort', 'heap_sort',...\n",
            "\n",
            "FILE\n",
            "    /usr/local/lib/python3.10/dist-packages/pygorithm/sorting/__init__.py\n",
            "\n",
            "\n"
          ]
        }
      ]
    },
    {
      "cell_type": "code",
      "source": [
        "from pygorithm.data_structures.queue import Queue\n",
        "q = Queue()\n",
        "print(q.get_code())"
      ],
      "metadata": {
        "colab": {
          "base_uri": "https://localhost:8080/"
        },
        "id": "lg4F4pSqq4AA",
        "outputId": "de20b4a9-1c9e-4560-b72f-61abfd27ed07"
      },
      "execution_count": 5,
      "outputs": [
        {
          "output_type": "stream",
          "name": "stdout",
          "text": [
            "class Queue(object):\n",
            "    \"\"\"Queue\n",
            "    Queue implementation\n",
            "    \"\"\"\n",
            "    def __init__(self, limit=10):\n",
            "        \"\"\"\n",
            "        :param limit: Queue limit size, default @ 10\n",
            "        \"\"\"\n",
            "        self.queue = []\n",
            "        self.front = None\n",
            "        self.rear = None\n",
            "        self.limit = limit\n",
            "        self.size = 0\n",
            "\n",
            "    def __str__(self):\n",
            "        return ' '.join([str(i) for i in self.queue])\n",
            "\n",
            "    def size(self):\n",
            "        \"\"\"\n",
            "        returns the current size of the queue\n",
            "        \"\"\"\n",
            "        return self.size\n",
            "\n",
            "    def is_empty(self):\n",
            "        \"\"\"\n",
            "        checks if the queue is empty\n",
            "        \"\"\"\n",
            "        return self.size <= 0\n",
            "\n",
            "    def enqueue(self, data):\n",
            "        \"\"\"\n",
            "        inserts an item into the queue\n",
            "        \"\"\"\n",
            "        if self.size >= self.limit:\n",
            "            # queue overflow\n",
            "            return -1\n",
            "        else:\n",
            "            self.queue.append(data)\n",
            "\n",
            "        # assign the rear as size of the queue and front as 0\n",
            "        if self.front is None:\n",
            "            self.front = self.rear = 0\n",
            "        else:\n",
            "            self.rear = self.size\n",
            "\n",
            "        self.size += 1\n",
            "\n",
            "    def dequeue(self):\n",
            "        \"\"\"\n",
            "        pops an item from the queue which was first inserted\n",
            "        \"\"\"\n",
            "        if self.is_empty():\n",
            "            # queue underflow\n",
            "            return -1\n",
            "        else:\n",
            "            self.size -= 1\n",
            "            if self.size == 0:\n",
            "                self.front = self.rear = 0\n",
            "            else:\n",
            "                self.rear = self.size - 1\n",
            "            return self.queue.pop(0)\n",
            "\n",
            "    def get_code(self):\n",
            "        \"\"\"\n",
            "        Return source code for Queue class\n",
            "        :return:\n",
            "        \"\"\"\n",
            "        return inspect.getsource(Queue)\n",
            "\n"
          ]
        }
      ]
    },
    {
      "cell_type": "code",
      "source": [
        "q = Queue()\n",
        "\n",
        "q.enqueue('A')\n",
        "q.enqueue('B')\n",
        "q.enqueue('C')\n",
        "\n",
        "print(q)\n",
        "\n",
        "q.dequeue()\n",
        "print(q)"
      ],
      "metadata": {
        "colab": {
          "base_uri": "https://localhost:8080/"
        },
        "id": "ejun4Lvnq380",
        "outputId": "1776d59e-d65b-4695-deba-5a08f257e761"
      },
      "execution_count": 6,
      "outputs": [
        {
          "output_type": "stream",
          "name": "stdout",
          "text": [
            "A B C\n",
            "B C\n"
          ]
        }
      ]
    }
  ]
}