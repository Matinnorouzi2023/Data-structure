{
  "cells": [
    {
      "cell_type": "code",
      "execution_count": 1,
      "metadata": {
        "id": "sHh1qEjlTLGv"
      },
      "outputs": [],
      "source": [
        "def bs(lst, key,low,high):\n",
        "  if low > high:\n",
        "    return False\n",
        "  else:\n",
        "    mid = (low + high ) // 2\n",
        "    if lst[mid] == key :\n",
        "      return True\n",
        "    elif key < lst[mid]:\n",
        "      return bs(lst, key, low, mid-1)\n",
        "    else:\n",
        "      return bs(lst,key,mid+1 , high)"
      ]
    },
    {
      "cell_type": "code",
      "execution_count": 2,
      "metadata": {
        "id": "QX9CR3QMUFXs"
      },
      "outputs": [],
      "source": [
        "lst = [12,14,16,29,35,37,89,91,98]"
      ]
    },
    {
      "cell_type": "code",
      "execution_count": 3,
      "metadata": {
        "colab": {
          "base_uri": "https://localhost:8080/"
        },
        "id": "H59KJXGLUT4a",
        "outputId": "991968a3-b024-4fa6-b0c4-43aff57c0167"
      },
      "outputs": [
        {
          "data": {
            "text/plain": [
              "True"
            ]
          },
          "execution_count": 3,
          "metadata": {},
          "output_type": "execute_result"
        }
      ],
      "source": [
        "bs(lst,89,0,8)"
      ]
    },
    {
      "cell_type": "code",
      "execution_count": 4,
      "metadata": {
        "colab": {
          "base_uri": "https://localhost:8080/"
        },
        "id": "asbHvgG3UVet",
        "outputId": "754561cd-f65a-4a0e-e513-87e0569515e3"
      },
      "outputs": [
        {
          "data": {
            "text/plain": [
              "False"
            ]
          },
          "execution_count": 4,
          "metadata": {},
          "output_type": "execute_result"
        }
      ],
      "source": [
        "bs(lst,90,0,8)"
      ]
    },
    {
      "cell_type": "code",
      "execution_count": 5,
      "metadata": {
        "colab": {
          "base_uri": "https://localhost:8080/"
        },
        "id": "fqHnjEiEUdFr",
        "outputId": "81da25b8-41de-40db-ee61-26a2bb1f2c82"
      },
      "outputs": [
        {
          "data": {
            "text/plain": [
              "True"
            ]
          },
          "execution_count": 5,
          "metadata": {},
          "output_type": "execute_result"
        }
      ],
      "source": [
        "bs(lst,12,0,8)"
      ]
    }
  ],
  "metadata": {
    "colab": {
      "name": "BinarySearch.ipynb",
      "provenance": []
    },
    "kernelspec": {
      "display_name": "Python 3",
      "name": "python3"
    },
    "language_info": {
      "codemirror_mode": {
        "name": "ipython",
        "version": 3
      },
      "file_extension": ".py",
      "mimetype": "text/x-python",
      "name": "python",
      "nbconvert_exporter": "python",
      "pygments_lexer": "ipython3",
      "version": "3.12.0"
    }
  },
  "nbformat": 4,
  "nbformat_minor": 0
}
