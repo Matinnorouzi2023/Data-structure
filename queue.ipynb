{
  "cells": [
    {
      "cell_type": "code",
      "execution_count": 1,
      "metadata": {
        "id": "5OQ8PkNCVpfc"
      },
      "outputs": [],
      "source": [
        "class CQueue:\n",
        "\n",
        "  def __init__(self, k):\n",
        "    self.k = k\n",
        "    self.queue = [None] * k\n",
        "    self.front = -1\n",
        "    self.rear = -1\n",
        "\n",
        "  def display(self):\n",
        "      if(self.front == -1):\n",
        "        print('empty')\n",
        "        return\n",
        "      elif(self.front <= self.rear) :\n",
        "         for i in range(self.front, self.rear+1):\n",
        "            print(self.queue[i], end=' ')\n",
        "         print()\n",
        "      else:\n",
        "        for i in range(self.front, self.k):\n",
        "             print(self.queue[i], end=' ')\n",
        "        for i in range(0, self.rear+1):\n",
        "             print(self.queue[i], end=' ')\n",
        "        print()\n",
        "\n",
        "  def enqueue(self, data):\n",
        "    if(((self.rear + 1) % self.k ) == self.front):\n",
        "      print('full')\n",
        "      return\n",
        "    elif (self.front == -1):\n",
        "      self.front = 0\n",
        "      self.rear = 0\n",
        "      self.queue[self.rear] = data\n",
        "    else:\n",
        "      self.rear = (self.rear + 1 ) % self.k\n",
        "      self.queue[self.rear] = data\n",
        "\n",
        "  def dequeue(self):\n",
        "      if (self.front == -1):\n",
        "        print('empty')\n",
        "        return\n",
        "      elif (self.front == self.rear):\n",
        "        t = self.queue[self.front]\n",
        "        self.front = -1\n",
        "        self.rear = -1\n",
        "        return t\n",
        "      else:\n",
        "        t = self.queue[self.front]\n",
        "        self.front = (self.front + 1 ) % self.k\n",
        "        return t"
      ]
    },
    {
      "cell_type": "code",
      "execution_count": 2,
      "metadata": {
        "id": "G2pgQRI6wUfc"
      },
      "outputs": [],
      "source": [
        "q = CQueue(3)"
      ]
    },
    {
      "cell_type": "code",
      "execution_count": 3,
      "metadata": {
        "colab": {
          "base_uri": "https://localhost:8080/"
        },
        "id": "r5dqewMJweht",
        "outputId": "4967f5cb-2f5d-42f2-d28c-81fc71fb5296"
      },
      "outputs": [
        {
          "output_type": "stream",
          "name": "stdout",
          "text": [
            "empty\n"
          ]
        }
      ],
      "source": [
        "q.display()"
      ]
    },
    {
      "cell_type": "code",
      "execution_count": 4,
      "metadata": {
        "id": "-qrr1chmwkNu"
      },
      "outputs": [],
      "source": [
        "q.enqueue('a')\n",
        "q.enqueue('b')\n",
        "q.enqueue('c')"
      ]
    },
    {
      "cell_type": "code",
      "execution_count": 5,
      "metadata": {
        "colab": {
          "base_uri": "https://localhost:8080/"
        },
        "id": "c_maTJ7twrS8",
        "outputId": "3bd5efed-bb56-4891-d6ce-f09d9de79789"
      },
      "outputs": [
        {
          "output_type": "stream",
          "name": "stdout",
          "text": [
            "a b c \n"
          ]
        }
      ],
      "source": [
        "q.display()"
      ]
    },
    {
      "cell_type": "code",
      "execution_count": 6,
      "metadata": {
        "colab": {
          "base_uri": "https://localhost:8080/"
        },
        "id": "M3soIGBFwtEQ",
        "outputId": "63cb15f7-c82b-4c34-8661-4c6bc64b5f95"
      },
      "outputs": [
        {
          "output_type": "stream",
          "name": "stdout",
          "text": [
            "full\n"
          ]
        }
      ],
      "source": [
        "q.enqueue('d')"
      ]
    },
    {
      "cell_type": "code",
      "execution_count": 7,
      "metadata": {
        "colab": {
          "base_uri": "https://localhost:8080/"
        },
        "id": "sVZfepKzwwy-",
        "outputId": "d285fb5e-4047-44f7-9fd4-21208793fc99"
      },
      "outputs": [
        {
          "output_type": "stream",
          "name": "stdout",
          "text": [
            "a b c \n"
          ]
        }
      ],
      "source": [
        "q.display()"
      ]
    },
    {
      "cell_type": "code",
      "execution_count": 8,
      "metadata": {
        "colab": {
          "base_uri": "https://localhost:8080/"
        },
        "id": "Vuyb6wPbwyW4",
        "outputId": "338815fc-f623-4eb1-e2b7-e2622128610e"
      },
      "outputs": [
        {
          "output_type": "stream",
          "name": "stdout",
          "text": [
            "a\n"
          ]
        }
      ],
      "source": [
        "x = q.dequeue()\n",
        "print(x)"
      ]
    },
    {
      "cell_type": "code",
      "execution_count": 9,
      "metadata": {
        "colab": {
          "base_uri": "https://localhost:8080/"
        },
        "id": "XqlN_WP0w9be",
        "outputId": "045e8c57-fb68-4d24-8f50-1556c4ba9e6f"
      },
      "outputs": [
        {
          "output_type": "stream",
          "name": "stdout",
          "text": [
            "b\n"
          ]
        }
      ],
      "source": [
        "y = q.dequeue()\n",
        "print(y)"
      ]
    },
    {
      "cell_type": "code",
      "execution_count": 10,
      "metadata": {
        "colab": {
          "base_uri": "https://localhost:8080/"
        },
        "id": "Jm-GiqHWxBVG",
        "outputId": "b23d428f-dfa8-4c7c-c12b-35d92b7602e0"
      },
      "outputs": [
        {
          "output_type": "stream",
          "name": "stdout",
          "text": [
            "c \n"
          ]
        }
      ],
      "source": [
        "q.display()"
      ]
    },
    {
      "cell_type": "code",
      "execution_count": 11,
      "metadata": {
        "colab": {
          "base_uri": "https://localhost:8080/"
        },
        "id": "nvjAEExpxFSI",
        "outputId": "9256e504-5df8-4c02-d553-924256e0fd2c"
      },
      "outputs": [
        {
          "output_type": "stream",
          "name": "stdout",
          "text": [
            "c\n"
          ]
        }
      ],
      "source": [
        "z = q.dequeue()\n",
        "print(z)"
      ]
    },
    {
      "cell_type": "code",
      "execution_count": 12,
      "metadata": {
        "colab": {
          "base_uri": "https://localhost:8080/"
        },
        "id": "bHjnKhGJxKue",
        "outputId": "3dcdd973-031d-4235-a61b-a41d06e1db41"
      },
      "outputs": [
        {
          "output_type": "stream",
          "name": "stdout",
          "text": [
            "empty\n"
          ]
        },
        {
          "ename": "",
          "evalue": "",
          "output_type": "error",
          "traceback": [
            "\u001b[1;31mThe Kernel crashed while executing code in the the current cell or a previous cell. Please review the code in the cell(s) to identify a possible cause of the failure. Click <a href='https://aka.ms/vscodeJupyterKernelCrash'>here</a> for more info. View Jupyter <a href='command:jupyter.viewOutput'>log</a> for further details."
          ]
        }
      ],
      "source": [
        "q.display()"
      ]
    }
  ],
  "metadata": {
    "colab": {
      "name": "cqueue.ipynb",
      "provenance": []
    },
    "kernelspec": {
      "display_name": "Python 3",
      "name": "python3"
    },
    "language_info": {
      "codemirror_mode": {
        "name": "ipython",
        "version": 3
      },
      "file_extension": ".py",
      "mimetype": "text/x-python",
      "name": "python",
      "nbconvert_exporter": "python",
      "pygments_lexer": "ipython3",
      "version": "3.12.0"
    }
  },
  "nbformat": 4,
  "nbformat_minor": 0
}