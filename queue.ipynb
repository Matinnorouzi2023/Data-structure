{
  "cells": [
    {
      "cell_type": "code",
      "execution_count": 1,
      "metadata": {
        "id": "5OQ8PkNCVpfc"
      },
      "outputs": [],
      "source": [
        "class CQueue:\n",
        "\n",
        "  def __init__(self, k):\n",
        "    self.k = k\n",
        "    self.queue = [None] * k\n",
        "    self.front = -1\n",
        "    self.rear = -1\n",
        "\n",
        "  def display(self):\n",
        "      if(self.front == -1):\n",
        "        print('empty')\n",
        "        return\n",
        "      elif(self.front <= self.rear) : \n",
        "         for i in range(self.front, self.rear+1):\n",
        "            print(self.queue[i], end=' ')\n",
        "         print()  \n",
        "      else:\n",
        "        for i in range(self.front, self.k):\n",
        "             print(self.queue[i], end=' ')\n",
        "        for i in range(0, self.rear+1):\n",
        "             print(self.queue[i], end=' ')   \n",
        "        print()\n",
        "\n",
        "  def enqueue(self, data):\n",
        "    if(((self.rear + 1) % self.k ) == self.front):\n",
        "      print('full')\n",
        "      return\n",
        "    elif (self.front == -1):\n",
        "      self.front = 0\n",
        "      self.rear = 0\n",
        "      self.queue[self.rear] = data\n",
        "    else:\n",
        "      self.rear = (self.rear + 1 ) % self.k\n",
        "      self.queue[self.rear] = data\n",
        "\n",
        "  def dequeue(self):\n",
        "      if (self.front == -1):\n",
        "        print('empty')\n",
        "        return\n",
        "      elif (self.front == self.rear):\n",
        "        t = self.queue[self.front]\n",
        "        self.front = -1\n",
        "        self.rear = -1\n",
        "        return t\n",
        "      else:\n",
        "        t = self.queue[self.front]\n",
        "        self.front = (self.front + 1 ) % self.k\n",
        "        return t"
      ]
    },
    {
      "cell_type": "code",
      "execution_count": 2,
      "metadata": {
        "id": "G2pgQRI6wUfc"
      },
      "outputs": [],
      "source": [
        "q = CQueue(3)"
      ]
    },
    {
      "cell_type": "code",
      "execution_count": 3,
      "metadata": {
        "colab": {
          "base_uri": "https://localhost:8080/"
        },
        "id": "r5dqewMJweht",
        "outputId": "839a82d7-429f-46df-e63a-afd7c48036f8"
      },
      "outputs": [
        {
          "name": "stdout",
          "output_type": "stream",
          "text": [
            "empty\n"
          ]
        }
      ],
      "source": [
        "q.display()"
      ]
    },
    {
      "cell_type": "code",
      "execution_count": 4,
      "metadata": {
        "id": "-qrr1chmwkNu"
      },
      "outputs": [],
      "source": [
        "q.enqueue('a')\n",
        "q.enqueue('b')\n",
        "q.enqueue('c')"
      ]
    },
    {
      "cell_type": "code",
      "execution_count": 5,
      "metadata": {
        "colab": {
          "base_uri": "https://localhost:8080/"
        },
        "id": "c_maTJ7twrS8",
        "outputId": "17acf3e5-952a-4760-fe66-e0bf62c4cf7e"
      },
      "outputs": [
        {
          "name": "stdout",
          "output_type": "stream",
          "text": [
            "a b c \n"
          ]
        }
      ],
      "source": [
        "q.display()"
      ]
    },
    {
      "cell_type": "code",
      "execution_count": 6,
      "metadata": {
        "colab": {
          "base_uri": "https://localhost:8080/"
        },
        "id": "M3soIGBFwtEQ",
        "outputId": "9f3dfc45-1eb3-450a-8f73-f2fdd0d0edbd"
      },
      "outputs": [
        {
          "name": "stdout",
          "output_type": "stream",
          "text": [
            "full\n"
          ]
        }
      ],
      "source": [
        "q.enqueue('d')"
      ]
    },
    {
      "cell_type": "code",
      "execution_count": 7,
      "metadata": {
        "colab": {
          "base_uri": "https://localhost:8080/"
        },
        "id": "sVZfepKzwwy-",
        "outputId": "fce94771-1fd7-47ee-8026-e4d258c6139c"
      },
      "outputs": [
        {
          "name": "stdout",
          "output_type": "stream",
          "text": [
            "a b c \n"
          ]
        }
      ],
      "source": [
        "q.display()"
      ]
    },
    {
      "cell_type": "code",
      "execution_count": 8,
      "metadata": {
        "colab": {
          "base_uri": "https://localhost:8080/"
        },
        "id": "Vuyb6wPbwyW4",
        "outputId": "4d6a4ccc-d10c-4264-ca6e-6c35362973ab"
      },
      "outputs": [
        {
          "name": "stdout",
          "output_type": "stream",
          "text": [
            "a\n"
          ]
        }
      ],
      "source": [
        "x = q.dequeue()\n",
        "print(x)"
      ]
    },
    {
      "cell_type": "code",
      "execution_count": 9,
      "metadata": {
        "colab": {
          "base_uri": "https://localhost:8080/"
        },
        "id": "XqlN_WP0w9be",
        "outputId": "77d17000-4703-44ca-eae1-a1ed9b2b214a"
      },
      "outputs": [
        {
          "name": "stdout",
          "output_type": "stream",
          "text": [
            "b\n"
          ]
        }
      ],
      "source": [
        "y = q.dequeue()\n",
        "print(y)"
      ]
    },
    {
      "cell_type": "code",
      "execution_count": 10,
      "metadata": {
        "colab": {
          "base_uri": "https://localhost:8080/"
        },
        "id": "Jm-GiqHWxBVG",
        "outputId": "16a5e0d1-d4ed-45d6-dc4a-c3c5af2c01fc"
      },
      "outputs": [
        {
          "name": "stdout",
          "output_type": "stream",
          "text": [
            "c \n"
          ]
        }
      ],
      "source": [
        "q.display()"
      ]
    },
    {
      "cell_type": "code",
      "execution_count": 11,
      "metadata": {
        "colab": {
          "base_uri": "https://localhost:8080/"
        },
        "id": "nvjAEExpxFSI",
        "outputId": "3d6a591a-82b6-43f8-8814-858894e7b9ac"
      },
      "outputs": [
        {
          "name": "stdout",
          "output_type": "stream",
          "text": [
            "c\n"
          ]
        }
      ],
      "source": [
        "z = q.dequeue()\n",
        "print(z)"
      ]
    },
    {
      "cell_type": "code",
      "execution_count": 12,
      "metadata": {
        "colab": {
          "base_uri": "https://localhost:8080/"
        },
        "id": "bHjnKhGJxKue",
        "outputId": "fb5c8361-5765-4790-fbfe-d7cb2960ce07"
      },
      "outputs": [
        {
          "name": "stdout",
          "output_type": "stream",
          "text": [
            "empty\n"
          ]
        },
        {
          "ename": "",
          "evalue": "",
          "output_type": "error",
          "traceback": [
            "\u001b[1;31mThe Kernel crashed while executing code in the the current cell or a previous cell. Please review the code in the cell(s) to identify a possible cause of the failure. Click <a href='https://aka.ms/vscodeJupyterKernelCrash'>here</a> for more info. View Jupyter <a href='command:jupyter.viewOutput'>log</a> for further details."
          ]
        }
      ],
      "source": [
        "q.display()"
      ]
    }
  ],
  "metadata": {
    "colab": {
      "collapsed_sections": [],
      "name": "cqueue.ipynb",
      "provenance": []
    },
    "kernelspec": {
      "display_name": "Python 3",
      "name": "python3"
    },
    "language_info": {
      "codemirror_mode": {
        "name": "ipython",
        "version": 3
      },
      "file_extension": ".py",
      "mimetype": "text/x-python",
      "name": "python",
      "nbconvert_exporter": "python",
      "pygments_lexer": "ipython3",
      "version": "3.12.0"
    }
  },
  "nbformat": 4,
  "nbformat_minor": 0
}
