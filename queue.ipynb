{
  "cells": [
    {
      "cell_type": "code",
      "execution_count": 1,
      "metadata": {
        "id": "5OQ8PkNCVpfc"
      },
      "outputs": [],
      "source": [
        "class CQueue:\n",
        "\n",
        "  def __init__(self, k):\n",
        "    self.k = k\n",
        "    self.queue = [None] * k\n",
        "    self.front = -1\n",
        "    self.rear = -1\n",
        "\n",
        "  def display(self):\n",
        "      if(self.front == -1):\n",
        "        print('empty')\n",
        "        return\n",
        "      elif(self.front <= self.rear) :\n",
        "         for i in range(self.front, self.rear+1):\n",
        "            print(self.queue[i], end=' ')\n",
        "         print()\n",
        "      else:\n",
        "        for i in range(self.front, self.k):\n",
        "             print(self.queue[i], end=' ')\n",
        "        for i in range(0, self.rear+1):\n",
        "             print(self.queue[i], end=' ')\n",
        "        print()\n",
        "\n",
        "  def enqueue(self, data):\n",
        "    if(((self.rear + 1) % self.k ) == self.front):\n",
        "      print('full')\n",
        "      return\n",
        "    elif (self.front == -1):\n",
        "      self.front = 0\n",
        "      self.rear = 0\n",
        "      self.queue[self.rear] = data\n",
        "    else:\n",
        "      self.rear = (self.rear + 1 ) % self.k\n",
        "      self.queue[self.rear] = data\n",
        "\n",
        "  def dequeue(self):\n",
        "      if (self.front == -1):\n",
        "        print('empty')\n",
        "        return\n",
        "      elif (self.front == self.rear):\n",
        "        t = self.queue[self.front]\n",
        "        self.front = -1\n",
        "        self.rear = -1\n",
        "        return t\n",
        "      else:\n",
        "        t = self.queue[self.front]\n",
        "        self.front = (self.front + 1 ) % self.k\n",
        "        return t"
      ]
    },
    {
      "cell_type": "code",
      "execution_count": 2,
      "metadata": {
        "id": "G2pgQRI6wUfc"
      },
      "outputs": [],
      "source": [
        "q = CQueue(3)"
      ]
    },
    {
      "cell_type": "code",
      "execution_count": 3,
      "metadata": {
        "colab": {
          "base_uri": "https://localhost:8080/"
        },
        "id": "r5dqewMJweht",
        "outputId": "04672619-42d2-4138-fed8-a7a431b39a5e"
      },
      "outputs": [
        {
          "output_type": "stream",
          "name": "stdout",
          "text": [
            "empty\n"
          ]
        }
      ],
      "source": [
        "q.display()"
      ]
    },
    {
      "cell_type": "code",
      "execution_count": 4,
      "metadata": {
        "id": "-qrr1chmwkNu"
      },
      "outputs": [],
      "source": [
        "q.enqueue('a')\n",
        "q.enqueue('b')\n",
        "q.enqueue('c')"
      ]
    },
    {
      "cell_type": "code",
      "execution_count": 5,
      "metadata": {
        "colab": {
          "base_uri": "https://localhost:8080/"
        },
        "id": "c_maTJ7twrS8",
        "outputId": "d69a3791-5892-40ce-ae58-c18bf4e1952f"
      },
      "outputs": [
        {
          "output_type": "stream",
          "name": "stdout",
          "text": [
            "a b c \n"
          ]
        }
      ],
      "source": [
        "q.display()"
      ]
    },
    {
      "cell_type": "code",
      "execution_count": 6,
      "metadata": {
        "colab": {
          "base_uri": "https://localhost:8080/"
        },
        "id": "M3soIGBFwtEQ",
        "outputId": "14109dbd-e109-42d9-b10c-8b749149c8a6"
      },
      "outputs": [
        {
          "output_type": "stream",
          "name": "stdout",
          "text": [
            "full\n"
          ]
        }
      ],
      "source": [
        "q.enqueue('d')"
      ]
    },
    {
      "cell_type": "code",
      "execution_count": 7,
      "metadata": {
        "colab": {
          "base_uri": "https://localhost:8080/"
        },
        "id": "sVZfepKzwwy-",
        "outputId": "8de78d39-f788-4389-af6e-49aaa0a29f72"
      },
      "outputs": [
        {
          "output_type": "stream",
          "name": "stdout",
          "text": [
            "a b c \n"
          ]
        }
      ],
      "source": [
        "q.display()"
      ]
    },
    {
      "cell_type": "code",
      "execution_count": 8,
      "metadata": {
        "colab": {
          "base_uri": "https://localhost:8080/"
        },
        "id": "Vuyb6wPbwyW4",
        "outputId": "27375c0e-06b0-41f6-a6b2-f3d7e32764eb"
      },
      "outputs": [
        {
          "output_type": "stream",
          "name": "stdout",
          "text": [
            "a\n"
          ]
        }
      ],
      "source": [
        "x = q.dequeue()\n",
        "print(x)"
      ]
    },
    {
      "cell_type": "code",
      "execution_count": 9,
      "metadata": {
        "colab": {
          "base_uri": "https://localhost:8080/"
        },
        "id": "XqlN_WP0w9be",
        "outputId": "ad3cf39f-ce2c-4710-b25e-629a67280cee"
      },
      "outputs": [
        {
          "output_type": "stream",
          "name": "stdout",
          "text": [
            "b\n"
          ]
        }
      ],
      "source": [
        "y = q.dequeue()\n",
        "print(y)"
      ]
    },
    {
      "cell_type": "code",
      "execution_count": 10,
      "metadata": {
        "colab": {
          "base_uri": "https://localhost:8080/"
        },
        "id": "Jm-GiqHWxBVG",
        "outputId": "25580dfb-abf3-4d24-e79c-7033a0840baa"
      },
      "outputs": [
        {
          "output_type": "stream",
          "name": "stdout",
          "text": [
            "c \n"
          ]
        }
      ],
      "source": [
        "q.display()"
      ]
    },
    {
      "cell_type": "code",
      "execution_count": 11,
      "metadata": {
        "colab": {
          "base_uri": "https://localhost:8080/"
        },
        "id": "nvjAEExpxFSI",
        "outputId": "0a6ce3cb-6443-45ef-8746-38e452b22706"
      },
      "outputs": [
        {
          "output_type": "stream",
          "name": "stdout",
          "text": [
            "c\n"
          ]
        }
      ],
      "source": [
        "z = q.dequeue()\n",
        "print(z)"
      ]
    },
    {
      "cell_type": "code",
      "execution_count": 12,
      "metadata": {
        "colab": {
          "base_uri": "https://localhost:8080/"
        },
        "id": "bHjnKhGJxKue",
        "outputId": "ae422ba1-7a77-44e4-f6ab-4d8f1b3a673d"
      },
      "outputs": [
        {
          "output_type": "stream",
          "name": "stdout",
          "text": [
            "empty\n"
          ]
        }
      ],
      "source": [
        "q.display()"
      ]
    }
  ],
  "metadata": {
    "colab": {
      "name": "cqueue.ipynb",
      "provenance": []
    },
    "kernelspec": {
      "display_name": "Python 3",
      "name": "python3"
    },
    "language_info": {
      "codemirror_mode": {
        "name": "ipython",
        "version": 3
      },
      "file_extension": ".py",
      "mimetype": "text/x-python",
      "name": "python",
      "nbconvert_exporter": "python",
      "pygments_lexer": "ipython3",
      "version": "3.12.0"
    }
  },
  "nbformat": 4,
  "nbformat_minor": 0
}