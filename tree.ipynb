{
  "nbformat": 4,
  "nbformat_minor": 0,
  "metadata": {
    "colab": {
      "provenance": [],
      "include_colab_link": true
    },
    "kernelspec": {
      "name": "python3",
      "display_name": "Python 3"
    },
    "language_info": {
      "name": "python"
    }
  },
  "cells": [
    {
      "cell_type": "markdown",
      "metadata": {
        "id": "view-in-github",
        "colab_type": "text"
      },
      "source": [
        "<a href=\"https://colab.research.google.com/github/Matinnorouzi2023/Data-structure/blob/main/tree.ipynb\" target=\"_parent\"><img src=\"https://colab.research.google.com/assets/colab-badge.svg\" alt=\"Open In Colab\"/></a>"
      ]
    },
    {
      "cell_type": "code",
      "execution_count": 1,
      "metadata": {
        "id": "mu8xYKNL5L_r"
      },
      "outputs": [],
      "source": [
        "class Node:\n",
        "    def __init__(self, data):\n",
        "        self.left  = None\n",
        "        self.right = None\n",
        "        self.data  = data"
      ]
    },
    {
      "cell_type": "code",
      "source": [
        "def Inorder(r):\n",
        "    if r:\n",
        "        Inorder(r.left)\n",
        "        print(r.data, end=' ')\n",
        "        Inorder(r.right)"
      ],
      "metadata": {
        "id": "1Q6h3WAg5Us0"
      },
      "execution_count": 2,
      "outputs": []
    },
    {
      "cell_type": "code",
      "source": [
        "def Postorder(r):\n",
        "    if r:\n",
        "        Postorder(r.left)\n",
        "        Postorder(r.right)\n",
        "        print(r.data, end=' ')\n"
      ],
      "metadata": {
        "id": "LceJc4eH9WF4"
      },
      "execution_count": 3,
      "outputs": []
    },
    {
      "cell_type": "code",
      "source": [
        "def Preorder(r):\n",
        "    if r:\n",
        "        print(r.data, end=' ')\n",
        "        Preorder(r.left)\n",
        "        Preorder(r.right)\n"
      ],
      "metadata": {
        "id": "jd48yOEv9dXc"
      },
      "execution_count": 4,
      "outputs": []
    },
    {
      "cell_type": "code",
      "source": [
        "    #            1\n",
        "    #         /     \\\n",
        "    #        2        3\n",
        "    #      /   \\    /   \\\n",
        "    #     4    5   6     7\n",
        "    #   /  \\\n",
        "    #  8    9"
      ],
      "metadata": {
        "id": "5rCd8WP06QRV"
      },
      "execution_count": 5,
      "outputs": []
    },
    {
      "cell_type": "code",
      "source": [
        "r = Node(1)\n",
        "\n",
        "r.left  = Node(2)\n",
        "r.right = Node(3)\n",
        "\n",
        "r.left.left  = Node(4)\n",
        "r.left.right = Node(5)\n",
        "\n",
        "r.right.left  = Node(6)\n",
        "r.right.right = Node(7)\n",
        "\n",
        "r.left.left.left   = Node(8)\n",
        "r.left.left.right  = Node(9)"
      ],
      "metadata": {
        "id": "22bgg_Kn5r0Q"
      },
      "execution_count": 6,
      "outputs": []
    },
    {
      "cell_type": "code",
      "source": [
        "Inorder(r)"
      ],
      "metadata": {
        "colab": {
          "base_uri": "https://localhost:8080/"
        },
        "id": "nzsTRB-u9PxH",
        "outputId": "2353ef58-f951-4f6f-842d-08ce4292b47e"
      },
      "execution_count": 7,
      "outputs": [
        {
          "output_type": "stream",
          "name": "stdout",
          "text": [
            "8 4 9 2 5 1 6 3 7 "
          ]
        }
      ]
    },
    {
      "cell_type": "code",
      "source": [
        "Preorder(r)"
      ],
      "metadata": {
        "colab": {
          "base_uri": "https://localhost:8080/"
        },
        "id": "qYn0l54z9l48",
        "outputId": "2e55e4d7-286e-45ea-8627-cd8effac0593"
      },
      "execution_count": 8,
      "outputs": [
        {
          "output_type": "stream",
          "name": "stdout",
          "text": [
            "1 2 4 8 9 5 3 6 7 "
          ]
        }
      ]
    },
    {
      "cell_type": "code",
      "source": [
        "Postorder(r)"
      ],
      "metadata": {
        "colab": {
          "base_uri": "https://localhost:8080/"
        },
        "id": "yDtW9L0x9l_V",
        "outputId": "4ff26382-7204-45c9-e8c4-21687738a410"
      },
      "execution_count": 9,
      "outputs": [
        {
          "output_type": "stream",
          "name": "stdout",
          "text": [
            "8 9 4 5 2 6 7 3 1 "
          ]
        }
      ]
    },
    {
      "cell_type": "code",
      "source": [
        "def count_node(r):\n",
        "  x = 0\n",
        "  y = 0\n",
        "  if r.left:\n",
        "    x = count_node(r.left)\n",
        "  if r.right:\n",
        "    y = count_node(r.right)\n",
        "  return x + y + 1\n",
        "\n"
      ],
      "metadata": {
        "id": "yetCBgnf9wsU"
      },
      "execution_count": 10,
      "outputs": []
    },
    {
      "cell_type": "code",
      "source": [
        "count_node(r)"
      ],
      "metadata": {
        "colab": {
          "base_uri": "https://localhost:8080/"
        },
        "id": "LXNl6SpD-Kl3",
        "outputId": "d1eccaa1-8d58-43cc-bc13-0754fb5f5e89"
      },
      "execution_count": 11,
      "outputs": [
        {
          "output_type": "execute_result",
          "data": {
            "text/plain": [
              "9"
            ]
          },
          "metadata": {},
          "execution_count": 11
        }
      ]
    },
    {
      "cell_type": "code",
      "source": [
        "def count_leaf(r):\n",
        "  if r is None:\n",
        "    return 0\n",
        "  if (r.left is None and r.right is None):\n",
        "     return 1\n",
        "  else:\n",
        "    return count_leaf(r.left) + count_leaf(r.right)"
      ],
      "metadata": {
        "id": "RQMxlE7J-QJ5"
      },
      "execution_count": 12,
      "outputs": []
    },
    {
      "cell_type": "code",
      "source": [
        "count_leaf(r)"
      ],
      "metadata": {
        "colab": {
          "base_uri": "https://localhost:8080/"
        },
        "id": "UcmijLc6-puM",
        "outputId": "f8e7608f-2bb7-43ed-c8bf-7cecd89f526c"
      },
      "execution_count": 13,
      "outputs": [
        {
          "output_type": "execute_result",
          "data": {
            "text/plain": [
              "5"
            ]
          },
          "metadata": {},
          "execution_count": 13
        }
      ]
    }
  ]
}