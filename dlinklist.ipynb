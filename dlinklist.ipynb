{
  "cells": [
    {
      "cell_type": "markdown",
      "metadata": {
        "id": "view-in-github",
        "colab_type": "text"
      },
      "source": [
        "<a href=\"https://colab.research.google.com/github/Matinnorouzi2023/Data-structure/blob/main/dlinklist.ipynb\" target=\"_parent\"><img src=\"https://colab.research.google.com/assets/colab-badge.svg\" alt=\"Open In Colab\"/></a>"
      ]
    },
    {
      "cell_type": "code",
      "execution_count": 1,
      "metadata": {
        "id": "xUIoWhSVn_q_"
      },
      "outputs": [],
      "source": [
        "class Node:\n",
        "  def __init__(self, data):\n",
        "    self.data = data\n",
        "    self.next = None\n",
        "    self.prev = None"
      ]
    },
    {
      "cell_type": "code",
      "execution_count": 2,
      "metadata": {
        "id": "USlC4LoSpHE5"
      },
      "outputs": [],
      "source": [
        "class dlinklist:\n",
        "  def __init__(self):\n",
        "    self.head = None\n",
        "\n",
        "  def display(self, x):\n",
        "    while (x is not None):\n",
        "      print(x.data, end= ' <-> ')\n",
        "      x = x.next\n",
        "    print('None')\n",
        "\n",
        "  def instart(self, d):\n",
        "    n = Node(d)\n",
        "    n.next = self.head\n",
        "    if self.head is not None:\n",
        "      self.head.prev = n\n",
        "    self.head = n\n",
        "\n",
        "  def inend(self, d):\n",
        "    n = Node(d)\n",
        "    if self.head is None:\n",
        "      self.head = n\n",
        "      return\n",
        "    t = self.head\n",
        "    while(t.next is not None) :\n",
        "      t = t.next\n",
        "    t.next = n\n",
        "    n.prev = t\n",
        "\n",
        "  def inafter(self, x, d):\n",
        "    n = Node(d)\n",
        "    n.next = x.next\n",
        "    x.next = n\n",
        "    n.prev = x\n",
        "    if n.next is not None:\n",
        "      n.next.prev = n"
      ]
    },
    {
      "cell_type": "code",
      "execution_count": 3,
      "metadata": {
        "id": "SU4yQWV2p5kb"
      },
      "outputs": [],
      "source": [
        "n1 = Node(2)\n",
        "n2 = Node(4)\n",
        "n3 = Node(5)\n",
        "\n",
        "d = dlinklist()"
      ]
    },
    {
      "cell_type": "code",
      "execution_count": 4,
      "metadata": {
        "id": "JYYLVoWcqJUe"
      },
      "outputs": [],
      "source": [
        "d.head = n1\n",
        "n1.next = n2\n",
        "n2.next = n3\n",
        "n2.prev = n1\n",
        "n3.prev = n2\n"
      ]
    },
    {
      "cell_type": "code",
      "execution_count": 5,
      "metadata": {
        "colab": {
          "base_uri": "https://localhost:8080/"
        },
        "id": "TpKBD1CnqjU6",
        "outputId": "99021539-94aa-49c6-8405-d3f0c1fa2d43"
      },
      "outputs": [
        {
          "output_type": "stream",
          "name": "stdout",
          "text": [
            "2 <-> 4 <-> 5 <-> None\n"
          ]
        }
      ],
      "source": [
        "d.display(d.head)"
      ]
    },
    {
      "cell_type": "code",
      "execution_count": 6,
      "metadata": {
        "id": "toibAAykrP5B"
      },
      "outputs": [],
      "source": [
        "d.instart(1)"
      ]
    },
    {
      "cell_type": "code",
      "execution_count": 7,
      "metadata": {
        "colab": {
          "base_uri": "https://localhost:8080/"
        },
        "id": "XZ2unCz9rc33",
        "outputId": "79cc070b-c1a2-4715-910d-2e04603ee4ee"
      },
      "outputs": [
        {
          "output_type": "stream",
          "name": "stdout",
          "text": [
            "1 <-> 2 <-> 4 <-> 5 <-> None\n"
          ]
        }
      ],
      "source": [
        "d.display(d.head)"
      ]
    },
    {
      "cell_type": "code",
      "execution_count": 8,
      "metadata": {
        "colab": {
          "base_uri": "https://localhost:8080/"
        },
        "id": "yjyogLdstrLd",
        "outputId": "641619dd-8a6b-46fb-d0ae-3a2dd24f202f"
      },
      "outputs": [
        {
          "output_type": "stream",
          "name": "stdout",
          "text": [
            "1 <-> 2 <-> 4 <-> 5 <-> 6 <-> None\n"
          ]
        }
      ],
      "source": [
        "d.inend(6)\n",
        "d.display(d.head)"
      ]
    },
    {
      "cell_type": "code",
      "execution_count": 9,
      "metadata": {
        "colab": {
          "base_uri": "https://localhost:8080/"
        },
        "id": "w9lv8kLCunU_",
        "outputId": "f71a5fc2-2afb-4aac-ef62-97b3c371f8c5"
      },
      "outputs": [
        {
          "output_type": "stream",
          "name": "stdout",
          "text": [
            "1 <-> 2 <-> 4 <-> 5 <-> 6 <-> 7 <-> None\n"
          ]
        }
      ],
      "source": [
        "d.inend(7)\n",
        "d.display(d.head)"
      ]
    },
    {
      "cell_type": "code",
      "execution_count": 10,
      "metadata": {
        "colab": {
          "base_uri": "https://localhost:8080/"
        },
        "id": "QSXyLrK6vSJ-",
        "outputId": "5a077a82-9a50-413d-a1d2-e8cc8b7690f5"
      },
      "outputs": [
        {
          "output_type": "stream",
          "name": "stdout",
          "text": [
            "1 <-> 2 <-> 3 <-> 4 <-> 5 <-> 6 <-> 7 <-> None\n"
          ]
        }
      ],
      "source": [
        "d.inafter(d.head.next, 3)\n",
        "d.display(d.head)"
      ]
    },
    {
      "cell_type": "code",
      "execution_count": 11,
      "metadata": {
        "colab": {
          "base_uri": "https://localhost:8080/"
        },
        "id": "Z_9M58RsvjBx",
        "outputId": "6ad29d1c-782b-4491-d9f6-a0295cb221a1"
      },
      "outputs": [
        {
          "output_type": "stream",
          "name": "stdout",
          "text": [
            "1 <-> 2 <-> 3 <-> 4 <-> 78 <-> 5 <-> 6 <-> 7 <-> None\n"
          ]
        }
      ],
      "source": [
        "d.inafter(d.head.next.next.next, 78)\n",
        "d.display(d.head)"
      ]
    }
  ],
  "metadata": {
    "colab": {
      "provenance": [],
      "include_colab_link": true
    },
    "kernelspec": {
      "display_name": "Python 3",
      "name": "python3"
    },
    "language_info": {
      "codemirror_mode": {
        "name": "ipython",
        "version": 3
      },
      "file_extension": ".py",
      "mimetype": "text/x-python",
      "name": "python",
      "nbconvert_exporter": "python",
      "pygments_lexer": "ipython3",
      "version": "3.12.0"
    }
  },
  "nbformat": 4,
  "nbformat_minor": 0
}