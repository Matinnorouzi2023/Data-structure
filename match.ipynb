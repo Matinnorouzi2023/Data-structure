{
  "cells": [
    {
      "cell_type": "code",
      "execution_count": 1,
      "metadata": {
        "id": "jwN-Yz9f7Y9O"
      },
      "outputs": [
        {
          "ename": "ModuleNotFoundError",
          "evalue": "No module named 'pygorithm'",
          "output_type": "error",
          "traceback": [
            "\u001b[1;31m---------------------------------------------------------------------------\u001b[0m",
            "\u001b[1;31mModuleNotFoundError\u001b[0m                       Traceback (most recent call last)",
            "\u001b[1;32mc:\\Users\\Matin\\Desktop\\int\\ds\\[fvpht0093]_python_data_structure_[files_and_codes]\\[FVPHT0093] Python_Data_Structure [Files_And_Codes]\\S01-S80\\match.ipynb Cell 1\u001b[0m line \u001b[0;36m1\n\u001b[1;32m----> <a href='vscode-notebook-cell:/c%3A/Users/Matin/Desktop/int/ds/%5Bfvpht0093%5D_python_data_structure_%5Bfiles_and_codes%5D/%5BFVPHT0093%5D%20Python_Data_Structure%20%5BFiles_And_Codes%5D/S01-S80/match.ipynb#W0sZmlsZQ%3D%3D?line=0'>1</a>\u001b[0m \u001b[39mfrom\u001b[39;00m \u001b[39mpygorithm\u001b[39;00m\u001b[39m.\u001b[39;00m\u001b[39mdata_structures\u001b[39;00m\u001b[39m.\u001b[39;00m\u001b[39mstack\u001b[39;00m \u001b[39mimport\u001b[39;00m Stack\n",
            "\u001b[1;31mModuleNotFoundError\u001b[0m: No module named 'pygorithm'"
          ]
        }
      ],
      "source": [
        "from pygorithm.data_structures.stack import Stack"
      ]
    },
    {
      "cell_type": "code",
      "execution_count": null,
      "metadata": {
        "id": "UbYqW32s-q18"
      },
      "outputs": [],
      "source": [
        "def is_match(e):\n",
        "  x = '({['\n",
        "  y = ')}]'\n",
        "  s = Stack()\n",
        "\n",
        "  for i in e:\n",
        "    if i in x:\n",
        "      s.push(i)\n",
        "    elif i in y:\n",
        "      if s.is_empty():\n",
        "        return False\n",
        "      if y.index(i) != x.index(s.pop()):\n",
        "        return False\n",
        "\n",
        "  return s.is_empty()        "
      ]
    },
    {
      "cell_type": "code",
      "execution_count": null,
      "metadata": {
        "colab": {
          "base_uri": "https://localhost:8080/"
        },
        "id": "0J49TEqEAIdB",
        "outputId": "7823bd58-9d7f-4128-d4af-fe7e8f820788"
      },
      "outputs": [
        {
          "data": {
            "text/plain": [
              "True"
            ]
          },
          "execution_count": 14,
          "metadata": {},
          "output_type": "execute_result"
        }
      ],
      "source": [
        "is_match('({}){}')"
      ]
    },
    {
      "cell_type": "code",
      "execution_count": null,
      "metadata": {
        "colab": {
          "base_uri": "https://localhost:8080/"
        },
        "id": "F4RFoh6PAO5I",
        "outputId": "7be373be-e2f1-4f72-d7be-f80d7494e9b5"
      },
      "outputs": [
        {
          "data": {
            "text/plain": [
              "False"
            ]
          },
          "execution_count": 15,
          "metadata": {},
          "output_type": "execute_result"
        }
      ],
      "source": [
        "is_match('({}){)')"
      ]
    },
    {
      "cell_type": "code",
      "execution_count": null,
      "metadata": {
        "colab": {
          "base_uri": "https://localhost:8080/"
        },
        "id": "XT7eBGq6ASEz",
        "outputId": "14f0dbe8-e746-4d70-d6da-3a640660a0bb"
      },
      "outputs": [
        {
          "data": {
            "text/plain": [
              "False"
            ]
          },
          "execution_count": 16,
          "metadata": {},
          "output_type": "execute_result"
        }
      ],
      "source": [
        "is_match('){}){}')"
      ]
    }
  ],
  "metadata": {
    "colab": {
      "name": "match.ipynb",
      "provenance": []
    },
    "kernelspec": {
      "display_name": "Python 3",
      "name": "python3"
    },
    "language_info": {
      "codemirror_mode": {
        "name": "ipython",
        "version": 3
      },
      "file_extension": ".py",
      "mimetype": "text/x-python",
      "name": "python",
      "nbconvert_exporter": "python",
      "pygments_lexer": "ipython3",
      "version": "3.12.0"
    }
  },
  "nbformat": 4,
  "nbformat_minor": 0
}
