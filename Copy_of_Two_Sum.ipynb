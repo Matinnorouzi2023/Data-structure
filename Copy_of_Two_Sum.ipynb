{
  "nbformat": 4,
  "nbformat_minor": 0,
  "metadata": {
    "colab": {
      "provenance": [],
      "toc_visible": true,
      "authorship_tag": "ABX9TyNDVW1a8rit2MxOPHGd0lm+",
      "include_colab_link": true
    },
    "kernelspec": {
      "name": "python3",
      "display_name": "Python 3"
    },
    "language_info": {
      "name": "python"
    }
  },
  "cells": [
    {
      "cell_type": "markdown",
      "metadata": {
        "id": "view-in-github",
        "colab_type": "text"
      },
      "source": [
        "<a href=\"https://colab.research.google.com/github/Matinnorouzi2023/Data-structure/blob/main/Copy_of_Two_Sum.ipynb\" target=\"_parent\"><img src=\"https://colab.research.google.com/assets/colab-badge.svg\" alt=\"Open In Colab\"/></a>"
      ]
    },
    {
      "cell_type": "code",
      "execution_count": null,
      "metadata": {
        "id": "eUonPZ7W1Z-K"
      },
      "outputs": [],
      "source": [
        "def find_complementary_pairs(nums, target):\n",
        "    num_set = set()\n",
        "    pairs = set()\n",
        "\n",
        "    for num in nums:\n",
        "        complement = target - num\n",
        "\n",
        "        if complement != num and complement in num_set:\n",
        "            pairs.add((num, complement))\n",
        "\n",
        "        num_set.add(num)\n",
        "\n",
        "    return pairs"
      ]
    },
    {
      "cell_type": "code",
      "source": [
        "nums = [1, 2, 3, 4, 5, 6, 7]\n",
        "target = 8\n",
        "result = find_complementary_pairs(nums, target)\n",
        "print(result)  # Output: {(1, 7), (2, 6), (3, 5)}\n"
      ],
      "metadata": {
        "colab": {
          "base_uri": "https://localhost:8080/"
        },
        "id": "T2qV_NPn1n9L",
        "outputId": "d7d50707-b891-44c7-f714-34b47b15710f"
      },
      "execution_count": null,
      "outputs": [
        {
          "output_type": "stream",
          "name": "stdout",
          "text": [
            "{(5, 3), (6, 2), (7, 1)}\n"
          ]
        }
      ]
    }
  ]
}