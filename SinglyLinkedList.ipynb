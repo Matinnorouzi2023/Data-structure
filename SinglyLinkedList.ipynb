{
  "nbformat": 4,
  "nbformat_minor": 0,
  "metadata": {
    "colab": {
      "provenance": [],
      "include_colab_link": true
    },
    "kernelspec": {
      "name": "python3",
      "display_name": "Python 3"
    },
    "language_info": {
      "name": "python"
    }
  },
  "cells": [
    {
      "cell_type": "markdown",
      "metadata": {
        "id": "view-in-github",
        "colab_type": "text"
      },
      "source": [
        "<a href=\"https://colab.research.google.com/github/Matinnorouzi2023/Data-structure/blob/main/SinglyLinkedList.ipynb\" target=\"_parent\"><img src=\"https://colab.research.google.com/assets/colab-badge.svg\" alt=\"Open In Colab\"/></a>"
      ]
    },
    {
      "cell_type": "code",
      "execution_count": 1,
      "metadata": {
        "id": "jc5gpVOykEai"
      },
      "outputs": [],
      "source": [
        "class Node:\n",
        "  def __init__(self,d):\n",
        "    self.data = d\n",
        "    self.next = None"
      ]
    },
    {
      "cell_type": "code",
      "source": [
        "class LinkList:\n",
        "  def __init__(self):\n",
        "    self.head = None\n",
        "\n",
        "  def display(self):\n",
        "    t = self.head\n",
        "    while t != None:\n",
        "      print(t.data, end='->')\n",
        "      t = t.next\n",
        "    print('Null')\n",
        "\n",
        "  def Instart(self, d):\n",
        "    n = Node(d)\n",
        "    n.next = self.head\n",
        "    self.head = n\n",
        "\n",
        "  def Inend(self, d):\n",
        "    n = Node(d)\n",
        "    if self.head is None:\n",
        "      self.head = n\n",
        "      return\n",
        "    t = self.head\n",
        "    while(t.next):\n",
        "      t = t.next\n",
        "    t.next = n\n",
        "\n",
        "  def Inafter(self, m, d):\n",
        "    n = Node(d)\n",
        "    n.next = m.next\n",
        "    m.next = n\n",
        "\n",
        "  def RemoveNode(self, d):\n",
        "    t =  self.head\n",
        "    if (t is not None):\n",
        "      if (t.data == d):\n",
        "        self.head = t.next\n",
        "        t = None\n",
        "        return\n",
        "    while (t is not None):\n",
        "      if t.data == d:\n",
        "        break\n",
        "      p = t\n",
        "      t = t.next\n",
        "    if (t == None):\n",
        "      return\n",
        "    p.next = t.next\n",
        "    t = None"
      ],
      "metadata": {
        "id": "cP583zy_kREd"
      },
      "execution_count": 2,
      "outputs": []
    },
    {
      "cell_type": "code",
      "source": [
        "x = Node(3)\n",
        "y = Node(4)\n",
        "z = Node(5)\n",
        "s = LinkList()\n",
        "s.head = x\n",
        "x.next = y\n",
        "y.next = z\n",
        "s.display()"
      ],
      "metadata": {
        "colab": {
          "base_uri": "https://localhost:8080/"
        },
        "id": "Lntq34R1kRHo",
        "outputId": "ed809988-ac15-4e55-d394-4a43da155ee6"
      },
      "execution_count": 3,
      "outputs": [
        {
          "output_type": "stream",
          "name": "stdout",
          "text": [
            "3->4->5->Null\n"
          ]
        }
      ]
    },
    {
      "cell_type": "code",
      "source": [
        "s.Instart(1)\n",
        "s.display()"
      ],
      "metadata": {
        "colab": {
          "base_uri": "https://localhost:8080/"
        },
        "id": "2ad8_rMcnzJV",
        "outputId": "dd61abe3-eaf3-41d0-9cbd-cc8950e9d004"
      },
      "execution_count": 4,
      "outputs": [
        {
          "output_type": "stream",
          "name": "stdout",
          "text": [
            "1->3->4->5->Null\n"
          ]
        }
      ]
    },
    {
      "cell_type": "code",
      "source": [
        "s.Inend(6)\n",
        "s.display()"
      ],
      "metadata": {
        "colab": {
          "base_uri": "https://localhost:8080/"
        },
        "id": "0TT6Xx75kRK0",
        "outputId": "3f894450-a7c1-4ddc-a197-d6cd3041f521"
      },
      "execution_count": 5,
      "outputs": [
        {
          "output_type": "stream",
          "name": "stdout",
          "text": [
            "1->3->4->5->6->Null\n"
          ]
        }
      ]
    },
    {
      "cell_type": "code",
      "source": [
        "s.Inafter(s.head, 2)\n",
        "s.display()"
      ],
      "metadata": {
        "colab": {
          "base_uri": "https://localhost:8080/"
        },
        "id": "ihvuTH_dkRNo",
        "outputId": "5871aa26-755f-48e2-9854-9033237fed21"
      },
      "execution_count": 6,
      "outputs": [
        {
          "output_type": "stream",
          "name": "stdout",
          "text": [
            "1->2->3->4->5->6->Null\n"
          ]
        }
      ]
    },
    {
      "cell_type": "code",
      "source": [
        "s.Inafter(s.head.next.next, 13)\n",
        "s.display()"
      ],
      "metadata": {
        "colab": {
          "base_uri": "https://localhost:8080/"
        },
        "id": "YlEQLrmTkRQs",
        "outputId": "c6b94cd7-928a-4cd6-b1dc-feb2bf245979"
      },
      "execution_count": 7,
      "outputs": [
        {
          "output_type": "stream",
          "name": "stdout",
          "text": [
            "1->2->3->13->4->5->6->Null\n"
          ]
        }
      ]
    },
    {
      "cell_type": "code",
      "source": [
        "s.RemoveNode(13)\n",
        "s.display()"
      ],
      "metadata": {
        "colab": {
          "base_uri": "https://localhost:8080/"
        },
        "id": "rSEOu0hdqFrD",
        "outputId": "34011fe9-699e-4255-f421-6e958fb8c402"
      },
      "execution_count": 8,
      "outputs": [
        {
          "output_type": "stream",
          "name": "stdout",
          "text": [
            "1->2->3->4->5->6->Null\n"
          ]
        }
      ]
    },
    {
      "cell_type": "code",
      "source": [
        "s.RemoveNode(1)\n",
        "s.display()"
      ],
      "metadata": {
        "colab": {
          "base_uri": "https://localhost:8080/"
        },
        "id": "qs26VtnPqLYA",
        "outputId": "ef71f446-932e-4ee5-9896-f44052b62024"
      },
      "execution_count": 9,
      "outputs": [
        {
          "output_type": "stream",
          "name": "stdout",
          "text": [
            "2->3->4->5->6->Null\n"
          ]
        }
      ]
    },
    {
      "cell_type": "code",
      "source": [
        "s.RemoveNode(6)\n",
        "s.display()"
      ],
      "metadata": {
        "colab": {
          "base_uri": "https://localhost:8080/"
        },
        "id": "nMC5L13pqON_",
        "outputId": "e4108fec-e940-483e-9a0b-3083e8edb94d"
      },
      "execution_count": 10,
      "outputs": [
        {
          "output_type": "stream",
          "name": "stdout",
          "text": [
            "2->3->4->5->Null\n"
          ]
        }
      ]
    }
  ]
}