{
  "cells": [
    {
      "cell_type": "code",
      "execution_count": 1,
      "metadata": {
        "id": "MQcrQIvcW4WZ"
      },
      "outputs": [],
      "source": [
        "def A(a, b, s='%s'):\n",
        "  print(s % ('A(%d,%d)' %(a,b)))\n",
        "  if a == 0:\n",
        "    return b+1\n",
        "  elif b == 0: \n",
        "    return A(a-1, 1, s)\n",
        "  else:\n",
        "    return A(a-1, A(a, b-1,s % ('A(%d, %%s)' % (a-1))), s)"
      ]
    },
    {
      "cell_type": "code",
      "execution_count": 2,
      "metadata": {
        "colab": {
          "base_uri": "https://localhost:8080/"
        },
        "id": "0q-KypZpcu_y",
        "outputId": "df41b827-2994-4778-d29c-010b99be6561"
      },
      "outputs": [
        {
          "name": "stdout",
          "output_type": "stream",
          "text": [
            "A(1,1)\n",
            "A(0, A(1,0))\n",
            "A(0, A(0,1))\n",
            "A(0,2)\n"
          ]
        },
        {
          "data": {
            "text/plain": [
              "3"
            ]
          },
          "execution_count": 2,
          "metadata": {},
          "output_type": "execute_result"
        }
      ],
      "source": [
        "A(1,1)"
      ]
    },
    {
      "cell_type": "code",
      "execution_count": 3,
      "metadata": {
        "colab": {
          "base_uri": "https://localhost:8080/"
        },
        "id": "1_qsJadndIRl",
        "outputId": "900eacb3-1287-4eca-af6f-5deaa01a08b7"
      },
      "outputs": [
        {
          "name": "stdout",
          "output_type": "stream",
          "text": [
            "A(1,2)\n",
            "A(0, A(1,1))\n",
            "A(0, A(0, A(1,0)))\n",
            "A(0, A(0, A(0,1)))\n",
            "A(0, A(0,2))\n",
            "A(0,3)\n"
          ]
        },
        {
          "data": {
            "text/plain": [
              "4"
            ]
          },
          "execution_count": 3,
          "metadata": {},
          "output_type": "execute_result"
        }
      ],
      "source": [
        "A(1,2)"
      ]
    },
    {
      "cell_type": "code",
      "execution_count": 4,
      "metadata": {
        "colab": {
          "base_uri": "https://localhost:8080/"
        },
        "id": "wDd1MMY6dKTr",
        "outputId": "279755d7-568c-46f8-ae9e-33757b1528e3"
      },
      "outputs": [
        {
          "name": "stdout",
          "output_type": "stream",
          "text": [
            "A(1,3)\n",
            "A(0, A(1,2))\n",
            "A(0, A(0, A(1,1)))\n",
            "A(0, A(0, A(0, A(1,0))))\n",
            "A(0, A(0, A(0, A(0,1))))\n",
            "A(0, A(0, A(0,2)))\n",
            "A(0, A(0,3))\n",
            "A(0,4)\n"
          ]
        },
        {
          "data": {
            "text/plain": [
              "5"
            ]
          },
          "execution_count": 4,
          "metadata": {},
          "output_type": "execute_result"
        }
      ],
      "source": [
        "A(1,3)"
      ]
    },
    {
      "cell_type": "code",
      "execution_count": 5,
      "metadata": {
        "colab": {
          "base_uri": "https://localhost:8080/"
        },
        "id": "P7Yv3aK8dMJE",
        "outputId": "a7ae6c22-1f29-4d5a-ea39-2a86f52be697"
      },
      "outputs": [
        {
          "name": "stdout",
          "output_type": "stream",
          "text": [
            "A(2,1)\n",
            "A(1, A(2,0))\n",
            "A(1, A(1,1))\n",
            "A(1, A(0, A(1,0)))\n",
            "A(1, A(0, A(0,1)))\n",
            "A(1, A(0,2))\n",
            "A(1,3)\n",
            "A(0, A(1,2))\n",
            "A(0, A(0, A(1,1)))\n",
            "A(0, A(0, A(0, A(1,0))))\n",
            "A(0, A(0, A(0, A(0,1))))\n",
            "A(0, A(0, A(0,2)))\n",
            "A(0, A(0,3))\n",
            "A(0,4)\n"
          ]
        },
        {
          "data": {
            "text/plain": [
              "5"
            ]
          },
          "execution_count": 5,
          "metadata": {},
          "output_type": "execute_result"
        }
      ],
      "source": [
        "A(2,1)"
      ]
    }
  ],
  "metadata": {
    "colab": {
      "name": "Ackermann.ipynb",
      "provenance": []
    },
    "kernelspec": {
      "display_name": "Python 3",
      "name": "python3"
    },
    "language_info": {
      "codemirror_mode": {
        "name": "ipython",
        "version": 3
      },
      "file_extension": ".py",
      "mimetype": "text/x-python",
      "name": "python",
      "nbconvert_exporter": "python",
      "pygments_lexer": "ipython3",
      "version": "3.12.0"
    }
  },
  "nbformat": 4,
  "nbformat_minor": 0
}
