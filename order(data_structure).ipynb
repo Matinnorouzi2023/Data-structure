{
  "cells": [
    {
      "cell_type": "code",
      "execution_count": 238,
      "metadata": {
        "id": "uhkrUIrsGHZt"
      },
      "outputs": [],
      "source": [
        "import time"
      ]
    },
    {
      "cell_type": "code",
      "execution_count": 239,
      "metadata": {
        "id": "j9-RH_KlGjoD"
      },
      "outputs": [],
      "source": [
        "def f(lst):\n",
        "  return lst[0]  "
      ]
    },
    {
      "cell_type": "code",
      "execution_count": 240,
      "metadata": {
        "colab": {
          "base_uri": "https://localhost:8080/"
        },
        "id": "8w5fgpAzGoaD",
        "outputId": "ee0a762e-aaa6-4143-8b32-8a04b24c990d"
      },
      "outputs": [
        {
          "data": {
            "text/plain": [
              "17"
            ]
          },
          "execution_count": 240,
          "metadata": {},
          "output_type": "execute_result"
        }
      ],
      "source": [
        "x = [17,19,20,18]\n",
        "a = f(x)\n",
        "a"
      ]
    },
    {
      "cell_type": "code",
      "execution_count": 241,
      "metadata": {
        "id": "5UniJ0qvGxqP"
      },
      "outputs": [],
      "source": [
        "s = time.process_time()\n",
        "a = f(x)\n",
        "e = time.process_time()"
      ]
    },
    {
      "cell_type": "code",
      "execution_count": 242,
      "metadata": {
        "colab": {
          "base_uri": "https://localhost:8080/"
        },
        "id": "6x_ycAFbHAmP",
        "outputId": "fd6b9b41-584c-42d3-96f0-4f44a6e02ba9"
      },
      "outputs": [
        {
          "data": {
            "text/plain": [
              "0.0"
            ]
          },
          "execution_count": 242,
          "metadata": {},
          "output_type": "execute_result"
        }
      ],
      "source": [
        "e - s"
      ]
    },
    {
      "cell_type": "code",
      "execution_count": 243,
      "metadata": {
        "id": "CYrpqbWaHKLU"
      },
      "outputs": [],
      "source": [
        "len_list= [4 , 40 , 400, 4000,  40000 ]"
      ]
    },
    {
      "cell_type": "code",
      "execution_count": 244,
      "metadata": {
        "id": "FkoyJ78iHW4w"
      },
      "outputs": [],
      "source": [
        "t_lst = []\n",
        "for i in len_list:\n",
        "  lst = [2] * i\n",
        "  s = time.process_time()\n",
        "  a = f(lst)\n",
        "  e = time.process_time()\n",
        "  t_lst.append(e-s)"
      ]
    },
    {
      "cell_type": "code",
      "execution_count": 245,
      "metadata": {
        "colab": {
          "base_uri": "https://localhost:8080/"
        },
        "id": "1n1px_fVH0zN",
        "outputId": "d2e3125a-7b9d-4534-bcf8-a04f92a12de8"
      },
      "outputs": [
        {
          "data": {
            "text/plain": [
              "[0.0, 0.0, 0.0, 0.0, 0.0]"
            ]
          },
          "execution_count": 245,
          "metadata": {},
          "output_type": "execute_result"
        }
      ],
      "source": [
        "t_lst"
      ]
    },
    {
      "cell_type": "code",
      "execution_count": 252,
      "metadata": {
        "id": "TE2INLvgH-Tn"
      },
      "outputs": [
        {
          "ename": "ModuleNotFoundError",
          "evalue": "No module named 'pandas'",
          "output_type": "error",
          "traceback": [
            "\u001b[1;31m---------------------------------------------------------------------------\u001b[0m",
            "\u001b[1;31mModuleNotFoundError\u001b[0m                       Traceback (most recent call last)",
            "\u001b[1;32md:\\Git\\Python\\Data structure\\order(data_structure).ipynb Cell 9\u001b[0m line \u001b[0;36m1\n\u001b[1;32m----> <a href='vscode-notebook-cell:/d%3A/Git/Python/Data%20structure/order%28data_structure%29.ipynb#X11sZmlsZQ%3D%3D?line=0'>1</a>\u001b[0m \u001b[39mimport\u001b[39;00m \u001b[39mpandas\u001b[39;00m \u001b[39mas\u001b[39;00m \u001b[39mpd\u001b[39;00m\n",
            "\u001b[1;31mModuleNotFoundError\u001b[0m: No module named 'pandas'"
          ]
        }
      ],
      "source": [
        "import pandas as pd"
      ]
    },
    {
      "cell_type": "code",
      "execution_count": null,
      "metadata": {
        "colab": {
          "base_uri": "https://localhost:8080/",
          "height": 206
        },
        "id": "H_jee4uOIDRS",
        "outputId": "43e675e8-b329-460a-fb38-8b1a368e190b"
      },
      "outputs": [
        {
          "ename": "NameError",
          "evalue": "name 'pd' is not defined",
          "output_type": "error",
          "traceback": [
            "\u001b[1;31m---------------------------------------------------------------------------\u001b[0m",
            "\u001b[1;31mNameError\u001b[0m                                 Traceback (most recent call last)",
            "\u001b[1;32mc:\\Users\\Matin\\AppData\\Local\\Temp\\9735c570-f7cc-47c4-912a-cf78932d4647_[fvpht0093]_python_data_structure_[files_and_codes].zip.647\\[FVPHT0093] Python_Data_Structure [Files_And_Codes]\\S01-S80\\order_1.ipynb Cell 10\u001b[0m line \u001b[0;36m1\n\u001b[1;32m----> <a href='vscode-notebook-cell:/c%3A/Users/Matin/AppData/Local/Temp/9735c570-f7cc-47c4-912a-cf78932d4647_%5Bfvpht0093%5D_python_data_structure_%5Bfiles_and_codes%5D.zip.647/%5BFVPHT0093%5D%20Python_Data_Structure%20%5BFiles_And_Codes%5D/S01-S80/order_1.ipynb#X12sZmlsZQ%3D%3D?line=0'>1</a>\u001b[0m df \u001b[39m=\u001b[39m pd\u001b[39m.\u001b[39mDataFrame(\u001b[39mlist\u001b[39m(\u001b[39mzip\u001b[39m(len_list, t_lst)), columns\u001b[39m=\u001b[39m[\u001b[39m'\u001b[39m\u001b[39mn\u001b[39m\u001b[39m'\u001b[39m,\u001b[39m'\u001b[39m\u001b[39mtime\u001b[39m\u001b[39m'\u001b[39m])\n\u001b[0;32m      <a href='vscode-notebook-cell:/c%3A/Users/Matin/AppData/Local/Temp/9735c570-f7cc-47c4-912a-cf78932d4647_%5Bfvpht0093%5D_python_data_structure_%5Bfiles_and_codes%5D.zip.647/%5BFVPHT0093%5D%20Python_Data_Structure%20%5BFiles_And_Codes%5D/S01-S80/order_1.ipynb#X12sZmlsZQ%3D%3D?line=1'>2</a>\u001b[0m df\n",
            "\u001b[1;31mNameError\u001b[0m: name 'pd' is not defined"
          ]
        }
      ],
      "source": [
        "df = pd.DataFrame(list(zip(len_list, t_lst)), columns=['n','time'])\n",
        "df"
      ]
    },
    {
      "cell_type": "markdown",
      "metadata": {
        "id": "pr7WIOG6OvvT"
      },
      "source": [
        "# linear : O(n)"
      ]
    },
    {
      "cell_type": "code",
      "execution_count": null,
      "metadata": {
        "id": "EKJ07L7BOyIC"
      },
      "outputs": [],
      "source": [
        "def g(lst):\n",
        "  c = 0\n",
        "  for i in lst:\n",
        "    c += 1\n",
        "  return c"
      ]
    },
    {
      "cell_type": "code",
      "execution_count": null,
      "metadata": {
        "colab": {
          "base_uri": "https://localhost:8080/"
        },
        "id": "lQRu02h_O7HW",
        "outputId": "7226e291-2438-4f14-e0fc-38bd68cc4d7f"
      },
      "outputs": [
        {
          "data": {
            "text/plain": [
              "5"
            ]
          },
          "execution_count": 55,
          "metadata": {},
          "output_type": "execute_result"
        }
      ],
      "source": [
        "x = [12,15,34,78,190]\n",
        "a = g(x)\n",
        "a"
      ]
    },
    {
      "cell_type": "code",
      "execution_count": null,
      "metadata": {
        "id": "j9LJhzHxPHht"
      },
      "outputs": [],
      "source": [
        "s = time.process_time()\n",
        "a = g(x)\n",
        "e = time.process_time()\n"
      ]
    },
    {
      "cell_type": "code",
      "execution_count": null,
      "metadata": {
        "colab": {
          "base_uri": "https://localhost:8080/"
        },
        "id": "5SYaPnVDPQ6j",
        "outputId": "e8ae0535-34ac-4a72-87c2-54e9e263578f"
      },
      "outputs": [
        {
          "data": {
            "text/plain": [
              "0.0"
            ]
          },
          "execution_count": 57,
          "metadata": {},
          "output_type": "execute_result"
        }
      ],
      "source": [
        "e - s"
      ]
    },
    {
      "cell_type": "code",
      "execution_count": null,
      "metadata": {
        "id": "QzcCXFtmPs1n"
      },
      "outputs": [],
      "source": [
        "len_list= [10 , 100, 1000, 10000, 100000 , 1000000, 10000000, 100000000, 1000000000]"
      ]
    },
    {
      "cell_type": "code",
      "execution_count": null,
      "metadata": {
        "id": "YQO3lox5PUTL"
      },
      "outputs": [],
      "source": [
        "t_lst2 = []\n",
        "for i in len_list:\n",
        "  lst = [2] * i\n",
        "  s = time.process_time()\n",
        "  a = g(lst)\n",
        "  e = time.process_time()\n",
        "  t_lst2.append(e-s)"
      ]
    },
    {
      "cell_type": "code",
      "execution_count": null,
      "metadata": {
        "colab": {
          "base_uri": "https://localhost:8080/",
          "height": 331
        },
        "id": "Br2yXKJaPhDz",
        "outputId": "7fb1c185-1bab-4e90-a04e-56bc28206d78"
      },
      "outputs": [
        {
          "ename": "NameError",
          "evalue": "name 'pd' is not defined",
          "output_type": "error",
          "traceback": [
            "\u001b[1;31m---------------------------------------------------------------------------\u001b[0m",
            "\u001b[1;31mNameError\u001b[0m                                 Traceback (most recent call last)",
            "\u001b[1;32mc:\\Users\\Matin\\AppData\\Local\\Temp\\9735c570-f7cc-47c4-912a-cf78932d4647_[fvpht0093]_python_data_structure_[files_and_codes].zip.647\\[FVPHT0093] Python_Data_Structure [Files_And_Codes]\\S01-S80\\order_1.ipynb Cell 18\u001b[0m line \u001b[0;36m1\n\u001b[1;32m----> <a href='vscode-notebook-cell:/c%3A/Users/Matin/AppData/Local/Temp/9735c570-f7cc-47c4-912a-cf78932d4647_%5Bfvpht0093%5D_python_data_structure_%5Bfiles_and_codes%5D.zip.647/%5BFVPHT0093%5D%20Python_Data_Structure%20%5BFiles_And_Codes%5D/S01-S80/order_1.ipynb#X23sZmlsZQ%3D%3D?line=0'>1</a>\u001b[0m df2 \u001b[39m=\u001b[39m pd\u001b[39m.\u001b[39mDataFrame(\u001b[39mlist\u001b[39m(\u001b[39mzip\u001b[39m(len_list, t_lst2)), columns\u001b[39m=\u001b[39m[\u001b[39m'\u001b[39m\u001b[39mn\u001b[39m\u001b[39m'\u001b[39m,\u001b[39m'\u001b[39m\u001b[39mtime\u001b[39m\u001b[39m'\u001b[39m])\n\u001b[0;32m      <a href='vscode-notebook-cell:/c%3A/Users/Matin/AppData/Local/Temp/9735c570-f7cc-47c4-912a-cf78932d4647_%5Bfvpht0093%5D_python_data_structure_%5Bfiles_and_codes%5D.zip.647/%5BFVPHT0093%5D%20Python_Data_Structure%20%5BFiles_And_Codes%5D/S01-S80/order_1.ipynb#X23sZmlsZQ%3D%3D?line=1'>2</a>\u001b[0m df2\n",
            "\u001b[1;31mNameError\u001b[0m: name 'pd' is not defined"
          ]
        }
      ],
      "source": [
        "df2 = pd.DataFrame(list(zip(len_list, t_lst2)), columns=['n','time'])\n",
        "df2"
      ]
    },
    {
      "cell_type": "code",
      "execution_count": null,
      "metadata": {
        "id": "0eswFch-QZqJ"
      },
      "outputs": [
        {
          "ename": "ModuleNotFoundError",
          "evalue": "No module named 'seaborn'",
          "output_type": "error",
          "traceback": [
            "\u001b[1;31m---------------------------------------------------------------------------\u001b[0m",
            "\u001b[1;31mModuleNotFoundError\u001b[0m                       Traceback (most recent call last)",
            "\u001b[1;32mc:\\Users\\Matin\\AppData\\Local\\Temp\\9735c570-f7cc-47c4-912a-cf78932d4647_[fvpht0093]_python_data_structure_[files_and_codes].zip.647\\[FVPHT0093] Python_Data_Structure [Files_And_Codes]\\S01-S80\\order_1.ipynb Cell 19\u001b[0m line \u001b[0;36m1\n\u001b[1;32m----> <a href='vscode-notebook-cell:/c%3A/Users/Matin/AppData/Local/Temp/9735c570-f7cc-47c4-912a-cf78932d4647_%5Bfvpht0093%5D_python_data_structure_%5Bfiles_and_codes%5D.zip.647/%5BFVPHT0093%5D%20Python_Data_Structure%20%5BFiles_And_Codes%5D/S01-S80/order_1.ipynb#X24sZmlsZQ%3D%3D?line=0'>1</a>\u001b[0m \u001b[39mimport\u001b[39;00m \u001b[39mseaborn\u001b[39;00m \u001b[39mas\u001b[39;00m \u001b[39msns\u001b[39;00m\n",
            "\u001b[1;31mModuleNotFoundError\u001b[0m: No module named 'seaborn'"
          ]
        }
      ],
      "source": [
        "import seaborn as sns"
      ]
    },
    {
      "cell_type": "code",
      "execution_count": null,
      "metadata": {
        "colab": {
          "base_uri": "https://localhost:8080/",
          "height": 369
        },
        "id": "nvlHUwJPQfu9",
        "outputId": "83ad1805-4e99-4277-c3ee-ed34f613dc7e"
      },
      "outputs": [
        {
          "ename": "NameError",
          "evalue": "name 'sns' is not defined",
          "output_type": "error",
          "traceback": [
            "\u001b[1;31m---------------------------------------------------------------------------\u001b[0m",
            "\u001b[1;31mNameError\u001b[0m                                 Traceback (most recent call last)",
            "\u001b[1;32mc:\\Users\\Matin\\AppData\\Local\\Temp\\9735c570-f7cc-47c4-912a-cf78932d4647_[fvpht0093]_python_data_structure_[files_and_codes].zip.647\\[FVPHT0093] Python_Data_Structure [Files_And_Codes]\\S01-S80\\order_1.ipynb Cell 20\u001b[0m line \u001b[0;36m1\n\u001b[1;32m----> <a href='vscode-notebook-cell:/c%3A/Users/Matin/AppData/Local/Temp/9735c570-f7cc-47c4-912a-cf78932d4647_%5Bfvpht0093%5D_python_data_structure_%5Bfiles_and_codes%5D.zip.647/%5BFVPHT0093%5D%20Python_Data_Structure%20%5BFiles_And_Codes%5D/S01-S80/order_1.ipynb#X25sZmlsZQ%3D%3D?line=0'>1</a>\u001b[0m sns\u001b[39m.\u001b[39mlmplot(x\u001b[39m=\u001b[39m\u001b[39m'\u001b[39m\u001b[39mn\u001b[39m\u001b[39m'\u001b[39m, y\u001b[39m=\u001b[39m\u001b[39m'\u001b[39m\u001b[39mtime\u001b[39m\u001b[39m'\u001b[39m , data \u001b[39m=\u001b[39m df2);\n",
            "\u001b[1;31mNameError\u001b[0m: name 'sns' is not defined"
          ]
        }
      ],
      "source": [
        "sns.lmplot(x='n', y='time' , data = df2);"
      ]
    },
    {
      "cell_type": "markdown",
      "metadata": {
        "id": "uwWYZ08BdquB"
      },
      "source": [
        "# O(n ** 2)"
      ]
    },
    {
      "cell_type": "code",
      "execution_count": null,
      "metadata": {
        "id": "72jHkkeXdtwd"
      },
      "outputs": [],
      "source": [
        "def p(lst):\n",
        "  c = 0\n",
        "  for i in lst:\n",
        "    for j in lst:\n",
        "      c += 1\n",
        "  return c"
      ]
    },
    {
      "cell_type": "code",
      "execution_count": null,
      "metadata": {
        "colab": {
          "base_uri": "https://localhost:8080/"
        },
        "id": "FgpgBuA5d7o3",
        "outputId": "e2ba659a-5e49-419a-e93d-7a6adac5c4d8"
      },
      "outputs": [
        {
          "data": {
            "text/plain": [
              "25"
            ]
          },
          "execution_count": 64,
          "metadata": {},
          "output_type": "execute_result"
        }
      ],
      "source": [
        "x = [1, 2, 3, 4 , 5]\n",
        "r = p(x)\n",
        "r"
      ]
    },
    {
      "cell_type": "code",
      "execution_count": null,
      "metadata": {
        "id": "8fyNyezMeMkT"
      },
      "outputs": [],
      "source": [
        "len_list = [5,10,15,20,25,30,35,40,45,50]\n",
        "t_lst3 = []\n",
        "for i in len_list:\n",
        "  lst = [2] * i\n",
        "  s = time.process_time()\n",
        "  a = p(lst)\n",
        "  e = time.process_time()\n",
        "  t_lst3.append(e-s)"
      ]
    },
    {
      "cell_type": "code",
      "execution_count": null,
      "metadata": {
        "colab": {
          "base_uri": "https://localhost:8080/",
          "height": 363
        },
        "id": "1a2dBg2UeWx2",
        "outputId": "91bc3b36-30de-4a4f-d348-0be4a817165d"
      },
      "outputs": [
        {
          "data": {
            "text/html": [
              "\n",
              "  <div id=\"df-402b7c41-d570-4b70-b655-e0703ab964ba\">\n",
              "    <div class=\"colab-df-container\">\n",
              "      <div>\n",
              "<style scoped>\n",
              "    .dataframe tbody tr th:only-of-type {\n",
              "        vertical-align: middle;\n",
              "    }\n",
              "\n",
              "    .dataframe tbody tr th {\n",
              "        vertical-align: top;\n",
              "    }\n",
              "\n",
              "    .dataframe thead th {\n",
              "        text-align: right;\n",
              "    }\n",
              "</style>\n",
              "<table border=\"1\" class=\"dataframe\">\n",
              "  <thead>\n",
              "    <tr style=\"text-align: right;\">\n",
              "      <th></th>\n",
              "      <th>n</th>\n",
              "      <th>time</th>\n",
              "    </tr>\n",
              "  </thead>\n",
              "  <tbody>\n",
              "    <tr>\n",
              "      <th>0</th>\n",
              "      <td>5</td>\n",
              "      <td>0.000011</td>\n",
              "    </tr>\n",
              "    <tr>\n",
              "      <th>1</th>\n",
              "      <td>10</td>\n",
              "      <td>0.000011</td>\n",
              "    </tr>\n",
              "    <tr>\n",
              "      <th>2</th>\n",
              "      <td>15</td>\n",
              "      <td>0.000018</td>\n",
              "    </tr>\n",
              "    <tr>\n",
              "      <th>3</th>\n",
              "      <td>20</td>\n",
              "      <td>0.000030</td>\n",
              "    </tr>\n",
              "    <tr>\n",
              "      <th>4</th>\n",
              "      <td>25</td>\n",
              "      <td>0.000047</td>\n",
              "    </tr>\n",
              "    <tr>\n",
              "      <th>5</th>\n",
              "      <td>30</td>\n",
              "      <td>0.000075</td>\n",
              "    </tr>\n",
              "    <tr>\n",
              "      <th>6</th>\n",
              "      <td>35</td>\n",
              "      <td>0.000093</td>\n",
              "    </tr>\n",
              "    <tr>\n",
              "      <th>7</th>\n",
              "      <td>40</td>\n",
              "      <td>0.000120</td>\n",
              "    </tr>\n",
              "    <tr>\n",
              "      <th>8</th>\n",
              "      <td>45</td>\n",
              "      <td>0.000158</td>\n",
              "    </tr>\n",
              "    <tr>\n",
              "      <th>9</th>\n",
              "      <td>50</td>\n",
              "      <td>0.000215</td>\n",
              "    </tr>\n",
              "  </tbody>\n",
              "</table>\n",
              "</div>\n",
              "      <button class=\"colab-df-convert\" onclick=\"convertToInteractive('df-402b7c41-d570-4b70-b655-e0703ab964ba')\"\n",
              "              title=\"Convert this dataframe to an interactive table.\"\n",
              "              style=\"display:none;\">\n",
              "        \n",
              "  <svg xmlns=\"http://www.w3.org/2000/svg\" height=\"24px\"viewBox=\"0 0 24 24\"\n",
              "       width=\"24px\">\n",
              "    <path d=\"M0 0h24v24H0V0z\" fill=\"none\"/>\n",
              "    <path d=\"M18.56 5.44l.94 2.06.94-2.06 2.06-.94-2.06-.94-.94-2.06-.94 2.06-2.06.94zm-11 1L8.5 8.5l.94-2.06 2.06-.94-2.06-.94L8.5 2.5l-.94 2.06-2.06.94zm10 10l.94 2.06.94-2.06 2.06-.94-2.06-.94-.94-2.06-.94 2.06-2.06.94z\"/><path d=\"M17.41 7.96l-1.37-1.37c-.4-.4-.92-.59-1.43-.59-.52 0-1.04.2-1.43.59L10.3 9.45l-7.72 7.72c-.78.78-.78 2.05 0 2.83L4 21.41c.39.39.9.59 1.41.59.51 0 1.02-.2 1.41-.59l7.78-7.78 2.81-2.81c.8-.78.8-2.07 0-2.86zM5.41 20L4 18.59l7.72-7.72 1.47 1.35L5.41 20z\"/>\n",
              "  </svg>\n",
              "      </button>\n",
              "      \n",
              "  <style>\n",
              "    .colab-df-container {\n",
              "      display:flex;\n",
              "      flex-wrap:wrap;\n",
              "      gap: 12px;\n",
              "    }\n",
              "\n",
              "    .colab-df-convert {\n",
              "      background-color: #E8F0FE;\n",
              "      border: none;\n",
              "      border-radius: 50%;\n",
              "      cursor: pointer;\n",
              "      display: none;\n",
              "      fill: #1967D2;\n",
              "      height: 32px;\n",
              "      padding: 0 0 0 0;\n",
              "      width: 32px;\n",
              "    }\n",
              "\n",
              "    .colab-df-convert:hover {\n",
              "      background-color: #E2EBFA;\n",
              "      box-shadow: 0px 1px 2px rgba(60, 64, 67, 0.3), 0px 1px 3px 1px rgba(60, 64, 67, 0.15);\n",
              "      fill: #174EA6;\n",
              "    }\n",
              "\n",
              "    [theme=dark] .colab-df-convert {\n",
              "      background-color: #3B4455;\n",
              "      fill: #D2E3FC;\n",
              "    }\n",
              "\n",
              "    [theme=dark] .colab-df-convert:hover {\n",
              "      background-color: #434B5C;\n",
              "      box-shadow: 0px 1px 3px 1px rgba(0, 0, 0, 0.15);\n",
              "      filter: drop-shadow(0px 1px 2px rgba(0, 0, 0, 0.3));\n",
              "      fill: #FFFFFF;\n",
              "    }\n",
              "  </style>\n",
              "\n",
              "      <script>\n",
              "        const buttonEl =\n",
              "          document.querySelector('#df-402b7c41-d570-4b70-b655-e0703ab964ba button.colab-df-convert');\n",
              "        buttonEl.style.display =\n",
              "          google.colab.kernel.accessAllowed ? 'block' : 'none';\n",
              "\n",
              "        async function convertToInteractive(key) {\n",
              "          const element = document.querySelector('#df-402b7c41-d570-4b70-b655-e0703ab964ba');\n",
              "          const dataTable =\n",
              "            await google.colab.kernel.invokeFunction('convertToInteractive',\n",
              "                                                     [key], {});\n",
              "          if (!dataTable) return;\n",
              "\n",
              "          const docLinkHtml = 'Like what you see? Visit the ' +\n",
              "            '<a target=\"_blank\" href=https://colab.research.google.com/notebooks/data_table.ipynb>data table notebook</a>'\n",
              "            + ' to learn more about interactive tables.';\n",
              "          element.innerHTML = '';\n",
              "          dataTable['output_type'] = 'display_data';\n",
              "          await google.colab.output.renderOutput(dataTable, element);\n",
              "          const docLink = document.createElement('div');\n",
              "          docLink.innerHTML = docLinkHtml;\n",
              "          element.appendChild(docLink);\n",
              "        }\n",
              "      </script>\n",
              "    </div>\n",
              "  </div>\n",
              "  "
            ],
            "text/plain": [
              "    n      time\n",
              "0   5  0.000011\n",
              "1  10  0.000011\n",
              "2  15  0.000018\n",
              "3  20  0.000030\n",
              "4  25  0.000047\n",
              "5  30  0.000075\n",
              "6  35  0.000093\n",
              "7  40  0.000120\n",
              "8  45  0.000158\n",
              "9  50  0.000215"
            ]
          },
          "execution_count": 158,
          "metadata": {},
          "output_type": "execute_result"
        }
      ],
      "source": [
        "df3 = pd.DataFrame(list(zip(len_list, t_lst3)), columns=['n','time'])\n",
        "df3"
      ]
    },
    {
      "cell_type": "code",
      "execution_count": null,
      "metadata": {
        "colab": {
          "base_uri": "https://localhost:8080/",
          "height": 369
        },
        "id": "7LZ9QdvBegS2",
        "outputId": "7108e470-c0c4-4a44-a65d-913fa20f98b9"
      },
      "outputs": [
        {
          "data": {
            "image/png": "[encoded data removed]",
            "text/plain": [
              "<Figure size 360x360 with 1 Axes>"
            ]
          },
          "metadata": {
            "needs_background": "light"
          },
          "output_type": "display_data"
        }
      ],
      "source": [
        "sns.lmplot(x='n', y='time' , data = df3, order=2, ci=None);"
      ]
    }
  ],
  "metadata": {
    "colab": {
      "name": "order_1.ipynb",
      "provenance": []
    },
    "kernelspec": {
      "display_name": "Python 3",
      "name": "python3"
    },
    "language_info": {
      "codemirror_mode": {
        "name": "ipython",
        "version": 3
      },
      "file_extension": ".py",
      "mimetype": "text/x-python",
      "name": "python",
      "nbconvert_exporter": "python",
      "pygments_lexer": "ipython3",
      "version": "3.10.11"
    }
  },
  "nbformat": 4,
  "nbformat_minor": 0
}
