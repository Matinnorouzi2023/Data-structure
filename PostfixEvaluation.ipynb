{
  "nbformat": 4,
  "nbformat_minor": 0,
  "metadata": {
    "colab": {
      "provenance": [],
      "include_colab_link": true
    },
    "kernelspec": {
      "name": "python3",
      "display_name": "Python 3"
    },
    "language_info": {
      "name": "python"
    }
  },
  "cells": [
    {
      "cell_type": "markdown",
      "metadata": {
        "id": "view-in-github",
        "colab_type": "text"
      },
      "source": [
        "<a href=\"https://colab.research.google.com/github/Matinnorouzi2023/Data-structure/blob/main/PostfixEvaluation.ipynb\" target=\"_parent\"><img src=\"https://colab.research.google.com/assets/colab-badge.svg\" alt=\"Open In Colab\"/></a>"
      ]
    },
    {
      "cell_type": "code",
      "source": [
        "pip install pythonds"
      ],
      "metadata": {
        "colab": {
          "base_uri": "https://localhost:8080/"
        },
        "id": "Iaisfp-0zSfX",
        "outputId": "8d78d9ce-b794-4450-ec98-6f61e8fc37ac"
      },
      "execution_count": 14,
      "outputs": [
        {
          "output_type": "stream",
          "name": "stdout",
          "text": [
            "Requirement already satisfied: pythonds in /usr/local/lib/python3.10/dist-packages (1.2.1)\n"
          ]
        }
      ]
    },
    {
      "cell_type": "code",
      "source": [
        "from pythonds.basic import Stack"
      ],
      "metadata": {
        "id": "-txxr9Pezvns"
      },
      "execution_count": 15,
      "outputs": []
    },
    {
      "cell_type": "code",
      "source": [
        "from pythonds.basic import Stack"
      ],
      "metadata": {
        "id": "_O3hMj_1PL0D"
      },
      "execution_count": 16,
      "outputs": []
    },
    {
      "cell_type": "code",
      "source": [
        "def f(op, a, b):\n",
        "  if op == '*':\n",
        "    return a * b\n",
        "  elif op == '/':\n",
        "    return a / b\n",
        "  elif op == '+':\n",
        "    return a + b\n",
        "  else:\n",
        "    return a - b"
      ],
      "metadata": {
        "id": "xpKpTa9TQ-cx"
      },
      "execution_count": 17,
      "outputs": []
    },
    {
      "cell_type": "code",
      "source": [
        "def postEval(exp):\n",
        "  s = Stack()\n",
        "  lst = exp.split()\n",
        "  for t in lst:\n",
        "    if t in '0123456789':\n",
        "      s.push(int(t))\n",
        "    else:\n",
        "      x = s.pop()\n",
        "      y = s.pop()\n",
        "      r = f(t,y,x)\n",
        "      s.push(r)\n",
        "  return s.pop()\n"
      ],
      "metadata": {
        "id": "3AJa2ReAP1m1"
      },
      "execution_count": 18,
      "outputs": []
    },
    {
      "cell_type": "code",
      "source": [
        "postEval('7 8 + 3 2 + /')"
      ],
      "metadata": {
        "colab": {
          "base_uri": "https://localhost:8080/"
        },
        "id": "zEY_jv9qQEDk",
        "outputId": "dab9efc9-7ae8-41d0-ad65-58b50a32e81a"
      },
      "execution_count": 19,
      "outputs": [
        {
          "output_type": "execute_result",
          "data": {
            "text/plain": [
              "3.0"
            ]
          },
          "metadata": {},
          "execution_count": 19
        }
      ]
    }
  ]
}