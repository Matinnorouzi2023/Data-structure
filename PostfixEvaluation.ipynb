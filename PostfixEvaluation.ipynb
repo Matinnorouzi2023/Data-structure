{
  "nbformat": 4,
  "nbformat_minor": 0,
  "metadata": {
    "colab": {
      "provenance": [],
      "include_colab_link": true
    },
    "kernelspec": {
      "name": "python3",
      "display_name": "Python 3"
    },
    "language_info": {
      "name": "python"
    }
  },
  "cells": [
    {
      "cell_type": "markdown",
      "metadata": {
        "id": "view-in-github",
        "colab_type": "text"
      },
      "source": [
        "<a href=\"https://colab.research.google.com/github/Matinnorouzi2023/Data-structure/blob/main/PostfixEvaluation.ipynb\" target=\"_parent\"><img src=\"https://colab.research.google.com/assets/colab-badge.svg\" alt=\"Open In Colab\"/></a>"
      ]
    },
    {
      "cell_type": "code",
      "source": [
        "pip install pythonds"
      ],
      "metadata": {
        "colab": {
          "base_uri": "https://localhost:8080/"
        },
        "id": "Iaisfp-0zSfX",
        "outputId": "06dc3872-0cd6-4a08-e4b4-9841ec779257"
      },
      "execution_count": 9,
      "outputs": [
        {
          "output_type": "stream",
          "name": "stdout",
          "text": [
            "Collecting pythonds\n",
            "  Downloading pythonds-1.2.1-py3-none-any.whl (14 kB)\n",
            "Installing collected packages: pythonds\n",
            "Successfully installed pythonds-1.2.1\n"
          ]
        }
      ]
    },
    {
      "cell_type": "code",
      "source": [
        "from pythonds.basic import Stack"
      ],
      "metadata": {
        "id": "_O3hMj_1PL0D"
      },
      "execution_count": 10,
      "outputs": []
    },
    {
      "cell_type": "code",
      "source": [
        "def f(op, a, b):\n",
        "  if op == '*':\n",
        "    return a * b\n",
        "  elif op == '/':\n",
        "    return a / b\n",
        "  elif op == '+':\n",
        "    return a + b\n",
        "  else:\n",
        "    return a - b"
      ],
      "metadata": {
        "id": "xpKpTa9TQ-cx"
      },
      "execution_count": 11,
      "outputs": []
    },
    {
      "cell_type": "code",
      "source": [
        "def postEval(exp):\n",
        "  s = Stack()\n",
        "  lst = exp.split()\n",
        "  for t in lst:\n",
        "    if t in '0123456789':\n",
        "      s.push(int(t))\n",
        "    else:\n",
        "      x = s.pop()\n",
        "      y = s.pop()\n",
        "      r = f(t,y,x)\n",
        "      s.push(r)\n",
        "  return s.pop()\n"
      ],
      "metadata": {
        "id": "3AJa2ReAP1m1"
      },
      "execution_count": 12,
      "outputs": []
    },
    {
      "cell_type": "code",
      "source": [
        "postEval('7 8 + 3 2 + /')"
      ],
      "metadata": {
        "colab": {
          "base_uri": "https://localhost:8080/"
        },
        "id": "zEY_jv9qQEDk",
        "outputId": "7e3e0a55-f346-40e1-ea7a-8b10559c57fe"
      },
      "execution_count": 13,
      "outputs": [
        {
          "output_type": "execute_result",
          "data": {
            "text/plain": [
              "3.0"
            ]
          },
          "metadata": {},
          "execution_count": 13
        }
      ]
    }
  ]
}