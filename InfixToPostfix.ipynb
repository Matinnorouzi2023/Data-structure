{
  "nbformat": 4,
  "nbformat_minor": 0,
  "metadata": {
    "colab": {
      "provenance": [],
      "include_colab_link": true
    },
    "kernelspec": {
      "name": "python3",
      "display_name": "Python 3"
    },
    "language_info": {
      "name": "python"
    }
  },
  "cells": [
    {
      "cell_type": "markdown",
      "metadata": {
        "id": "view-in-github",
        "colab_type": "text"
      },
      "source": [
        "<a href=\"https://colab.research.google.com/github/Matinnorouzi2023/Data-structure/blob/main/InfixToPostfix.ipynb\" target=\"_parent\"><img src=\"https://colab.research.google.com/assets/colab-badge.svg\" alt=\"Open In Colab\"/></a>"
      ]
    },
    {
      "cell_type": "code",
      "source": [
        "a*b+c*d   : ab*cd*+\n",
        "a*(b+c)*d : abc+*d*"
      ],
      "metadata": {
        "id": "cJhsxqYEm9-P",
        "colab": {
          "base_uri": "https://localhost:8080/",
          "height": 144
        },
        "outputId": "0b2789eb-730a-424b-d683-25f920a95297"
      },
      "execution_count": 7,
      "outputs": [
        {
          "output_type": "error",
          "ename": "SyntaxError",
          "evalue": "ignored",
          "traceback": [
            "\u001b[0;36m  File \u001b[0;32m\"<ipython-input-7-0f65c46defb6>\"\u001b[0;36m, line \u001b[0;32m1\u001b[0m\n\u001b[0;31m    a*b+c*d   : ab*cd*+\u001b[0m\n\u001b[0m    ^\u001b[0m\n\u001b[0;31mSyntaxError\u001b[0m\u001b[0;31m:\u001b[0m illegal target for annotation\n"
          ]
        }
      ]
    },
    {
      "cell_type": "code",
      "execution_count": 3,
      "metadata": {
        "id": "C20C_X1Lhhuo"
      },
      "outputs": [],
      "source": [
        "class myStack:\n",
        "  def __init__(self):\n",
        "    self.lst=[]\n",
        "\n",
        "  def push(self, data):\n",
        "    self.lst.append(data)\n",
        "\n",
        "  def pop(self):\n",
        "    if self.lst:\n",
        "        return self.lst.pop()\n",
        "    else:\n",
        "        return 'None'\n",
        "\n",
        "  def is_empty(self):\n",
        "    return self.lst==[]\n",
        "\n",
        "  def peek(self):\n",
        "    return self.lst[-1]"
      ]
    },
    {
      "cell_type": "code",
      "source": [
        "def InfixToPostfix(exp):\n",
        "  s = myStack()\n",
        "  p = {'+' : 1 , '-':1 , '*':2 , '/': 2}\n",
        "  output = ''\n",
        "  for i in exp:\n",
        "    if i.isalpha():\n",
        "      output += i\n",
        "    elif i == '(':\n",
        "      s.push('(')\n",
        "    elif i == ')':\n",
        "      while not s.is_empty() and s.peek() != '(':\n",
        "        output += s.pop()\n",
        "      s.pop()\n",
        "    else:\n",
        "      while not s.is_empty()  and s.peek() != '('  and p[i] <= p[s.peek()]:\n",
        "        output += s.pop()\n",
        "      s.push(i)\n",
        "\n",
        "  while not s.is_empty():\n",
        "    output += s.pop()\n",
        "  return output"
      ],
      "metadata": {
        "id": "A_-wLVyGnMGb"
      },
      "execution_count": 4,
      "outputs": []
    },
    {
      "cell_type": "code",
      "source": [
        "InfixToPostfix('a*b+c*d')"
      ],
      "metadata": {
        "colab": {
          "base_uri": "https://localhost:8080/",
          "height": 36
        },
        "id": "7QYuUnS4mSb5",
        "outputId": "c5bac583-5e4e-4824-b6e4-14d3cce0be94"
      },
      "execution_count": 5,
      "outputs": [
        {
          "output_type": "execute_result",
          "data": {
            "text/plain": [
              "'ab*cd*+'"
            ],
            "application/vnd.google.colaboratory.intrinsic+json": {
              "type": "string"
            }
          },
          "metadata": {},
          "execution_count": 5
        }
      ]
    },
    {
      "cell_type": "code",
      "source": [
        "InfixToPostfix('a*(b+c)*d')"
      ],
      "metadata": {
        "colab": {
          "base_uri": "https://localhost:8080/",
          "height": 36
        },
        "id": "BrSTfSQSpTa8",
        "outputId": "dcbeb93c-0c71-4cbf-c811-538f8be2a13d"
      },
      "execution_count": 6,
      "outputs": [
        {
          "output_type": "execute_result",
          "data": {
            "text/plain": [
              "'abc+*d*'"
            ],
            "application/vnd.google.colaboratory.intrinsic+json": {
              "type": "string"
            }
          },
          "metadata": {},
          "execution_count": 6
        }
      ]
    }
  ]
}