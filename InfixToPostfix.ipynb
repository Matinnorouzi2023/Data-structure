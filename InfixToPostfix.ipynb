{
  "nbformat": 4,
  "nbformat_minor": 0,
  "metadata": {
    "colab": {
      "provenance": [],
      "include_colab_link": true
    },
    "kernelspec": {
      "name": "python3",
      "display_name": "Python 3"
    },
    "language_info": {
      "name": "python"
    }
  },
  "cells": [
    {
      "cell_type": "markdown",
      "metadata": {
        "id": "view-in-github",
        "colab_type": "text"
      },
      "source": [
        "<a href=\"https://colab.research.google.com/github/Matinnorouzi2023/Data-structure/blob/main/InfixToPostfix.ipynb\" target=\"_parent\"><img src=\"https://colab.research.google.com/assets/colab-badge.svg\" alt=\"Open In Colab\"/></a>"
      ]
    },
    {
      "cell_type": "code",
      "source": [
        "pip install pythonds"
      ],
      "metadata": {
        "colab": {
          "base_uri": "https://localhost:8080/"
        },
        "id": "sCIOTfOLzoSO",
        "outputId": "571bf9e5-ed30-4c66-8ed8-3df5ac7cbad8"
      },
      "execution_count": 13,
      "outputs": [
        {
          "output_type": "stream",
          "name": "stdout",
          "text": [
            "Requirement already satisfied: pythonds in /usr/local/lib/python3.10/dist-packages (1.2.1)\n"
          ]
        }
      ]
    },
    {
      "cell_type": "code",
      "source": [
        "from pythonds.basic import Stack"
      ],
      "metadata": {
        "id": "6gXbtzxa0TDG"
      },
      "execution_count": 2,
      "outputs": []
    },
    {
      "cell_type": "code",
      "source": [
        "a*b+c*d   : ab*cd*+\n",
        "a*(b+c)*d : abc+*d*"
      ],
      "metadata": {
        "id": "cJhsxqYEm9-P",
        "colab": {
          "base_uri": "https://localhost:8080/",
          "height": 144
        },
        "outputId": "888d2c05-9fd6-4bd8-9368-c96870accb05"
      },
      "execution_count": 15,
      "outputs": [
        {
          "output_type": "error",
          "ename": "SyntaxError",
          "evalue": "ignored",
          "traceback": [
            "\u001b[0;36m  File \u001b[0;32m\"<ipython-input-15-0f65c46defb6>\"\u001b[0;36m, line \u001b[0;32m1\u001b[0m\n\u001b[0;31m    a*b+c*d   : ab*cd*+\u001b[0m\n\u001b[0m    ^\u001b[0m\n\u001b[0;31mSyntaxError\u001b[0m\u001b[0;31m:\u001b[0m illegal target for annotation\n"
          ]
        }
      ]
    },
    {
      "cell_type": "code",
      "execution_count": 16,
      "metadata": {
        "id": "C20C_X1Lhhuo"
      },
      "outputs": [],
      "source": [
        "class myStack:\n",
        "  def __init__(self):\n",
        "    self.lst=[]\n",
        "\n",
        "  def push(self, data):\n",
        "    self.lst.append(data)\n",
        "\n",
        "  def pop(self):\n",
        "    if self.lst:\n",
        "        return self.lst.pop()\n",
        "    else:\n",
        "        return 'None'\n",
        "\n",
        "  def is_empty(self):\n",
        "    return self.lst==[]\n",
        "\n",
        "  def peek(self):\n",
        "    return self.lst[-1]"
      ]
    },
    {
      "cell_type": "code",
      "source": [
        "def InfixToPostfix(exp):\n",
        "  s = myStack()\n",
        "  p = {'+' : 1 , '-':1 , '*':2 , '/': 2}\n",
        "  output = ''\n",
        "  for i in exp:\n",
        "    if i.isalpha():\n",
        "      output += i\n",
        "    elif i == '(':\n",
        "      s.push('(')\n",
        "    elif i == ')':\n",
        "      while not s.is_empty() and s.peek() != '(':\n",
        "        output += s.pop()\n",
        "      s.pop()\n",
        "    else:\n",
        "      while not s.is_empty()  and s.peek() != '('  and p[i] <= p[s.peek()]:\n",
        "        output += s.pop()\n",
        "      s.push(i)\n",
        "\n",
        "  while not s.is_empty():\n",
        "    output += s.pop()\n",
        "  return output"
      ],
      "metadata": {
        "id": "A_-wLVyGnMGb"
      },
      "execution_count": 5,
      "outputs": []
    },
    {
      "cell_type": "code",
      "source": [
        "InfixToPostfix('a*b+c*d')"
      ],
      "metadata": {
        "id": "7QYuUnS4mSb5",
        "colab": {
          "base_uri": "https://localhost:8080/",
          "height": 36
        },
        "outputId": "ce160b82-cd05-419a-bbde-404ead407d64"
      },
      "execution_count": 6,
      "outputs": [
        {
          "output_type": "execute_result",
          "data": {
            "text/plain": [
              "'ab*cd*+'"
            ],
            "application/vnd.google.colaboratory.intrinsic+json": {
              "type": "string"
            }
          },
          "metadata": {},
          "execution_count": 6
        }
      ]
    },
    {
      "cell_type": "code",
      "source": [
        "InfixToPostfix('a*(b+c)*d')"
      ],
      "metadata": {
        "id": "BrSTfSQSpTa8",
        "colab": {
          "base_uri": "https://localhost:8080/",
          "height": 36
        },
        "outputId": "d447e9dc-640f-4f04-b4d2-87f9d55b16be"
      },
      "execution_count": 7,
      "outputs": [
        {
          "output_type": "execute_result",
          "data": {
            "text/plain": [
              "'abc+*d*'"
            ],
            "application/vnd.google.colaboratory.intrinsic+json": {
              "type": "string"
            }
          },
          "metadata": {},
          "execution_count": 7
        }
      ]
    }
  ]
}